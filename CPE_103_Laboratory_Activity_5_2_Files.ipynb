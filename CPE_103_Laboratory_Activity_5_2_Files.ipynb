{
  "nbformat": 4,
  "nbformat_minor": 0,
  "metadata": {
    "colab": {
      "provenance": [],
      "authorship_tag": "ABX9TyPIiX5+hoIrSBkYxnWmBGoh",
      "include_colab_link": true
    },
    "kernelspec": {
      "name": "python3",
      "display_name": "Python 3"
    },
    "language_info": {
      "name": "python"
    }
  },
  "cells": [
    {
      "cell_type": "markdown",
      "metadata": {
        "id": "view-in-github",
        "colab_type": "text"
      },
      "source": [
        "<a href=\"https://colab.research.google.com/github/disomnongjalilah/CPE-103-OOP-1-A/blob/main/CPE_103_Laboratory_Activity_5_2_Files.ipynb\" target=\"_parent\"><img src=\"https://colab.research.google.com/assets/colab-badge.svg\" alt=\"Open In Colab\"/></a>"
      ]
    },
    {
      "cell_type": "markdown",
      "source": [
        "OPENING FILES"
      ],
      "metadata": {
        "id": "aNYiAYRrXkFF"
      }
    },
    {
      "cell_type": "code",
      "execution_count": 2,
      "metadata": {
        "colab": {
          "base_uri": "https://localhost:8080/"
        },
        "id": "2ZrqNHUdWH4V",
        "outputId": "9e1e8207-76c6-4637-aa03-d3278162c408"
      },
      "outputs": [
        {
          "output_type": "stream",
          "name": "stdout",
          "text": [
            "<_io.TextIOWrapper name='mbox.txt' mode='r' encoding='utf-8'>\n"
          ]
        }
      ],
      "source": [
        "fhand = open('mbox.txt')\n",
        "print(fhand)"
      ]
    },
    {
      "cell_type": "code",
      "source": [
        "fhand = open('stuff.txt')"
      ],
      "metadata": {
        "id": "goghBvGKXq4l"
      },
      "execution_count": 3,
      "outputs": []
    },
    {
      "cell_type": "markdown",
      "source": [
        "TEXT FILE AND LINES"
      ],
      "metadata": {
        "id": "EILgr6ZrWhV5"
      }
    },
    {
      "cell_type": "code",
      "source": [
        "stuff = 'Hello\\nWorld'\n",
        "stuff"
      ],
      "metadata": {
        "colab": {
          "base_uri": "https://localhost:8080/",
          "height": 36
        },
        "id": "7fjgmHe9Wmmm",
        "outputId": "9723b1d1-2d43-4f77-95ed-2119516b7079"
      },
      "execution_count": 4,
      "outputs": [
        {
          "output_type": "execute_result",
          "data": {
            "text/plain": [
              "'Hello\\nWorld'"
            ],
            "application/vnd.google.colaboratory.intrinsic+json": {
              "type": "string"
            }
          },
          "metadata": {},
          "execution_count": 4
        }
      ]
    },
    {
      "cell_type": "code",
      "source": [
        "print(stuff)"
      ],
      "metadata": {
        "colab": {
          "base_uri": "https://localhost:8080/"
        },
        "id": "lBf1wFB4XNCk",
        "outputId": "4b682cfd-bf2c-4227-f793-a4d819b33d43"
      },
      "execution_count": 5,
      "outputs": [
        {
          "output_type": "stream",
          "name": "stdout",
          "text": [
            "Hello\n",
            "World\n"
          ]
        }
      ]
    },
    {
      "cell_type": "code",
      "source": [
        "stuff = 'X\\nY'\n",
        "print(stuff)"
      ],
      "metadata": {
        "colab": {
          "base_uri": "https://localhost:8080/"
        },
        "id": "mbp9cWP1XR7M",
        "outputId": "23048195-6e17-439c-ffd9-aae21bfe794e"
      },
      "execution_count": 8,
      "outputs": [
        {
          "output_type": "stream",
          "name": "stdout",
          "text": [
            "X\n",
            "Y\n"
          ]
        }
      ]
    },
    {
      "cell_type": "code",
      "source": [
        "len(stuff)"
      ],
      "metadata": {
        "colab": {
          "base_uri": "https://localhost:8080/"
        },
        "id": "zdTxiB8YXZLc",
        "outputId": "811b4117-2b8d-433d-b32e-d218eb82a7be"
      },
      "execution_count": 7,
      "outputs": [
        {
          "output_type": "execute_result",
          "data": {
            "text/plain": [
              "4"
            ]
          },
          "metadata": {},
          "execution_count": 7
        }
      ]
    },
    {
      "cell_type": "markdown",
      "source": [
        "READING FILES"
      ],
      "metadata": {
        "id": "uAg8T-z7X2vo"
      }
    },
    {
      "cell_type": "code",
      "source": [
        "fhand = open('mbox-short.txt')\n",
        "count = 0\n",
        "for line in fhand:\n",
        "    count = count + 1\n",
        "print('Line Count:', count)"
      ],
      "metadata": {
        "colab": {
          "base_uri": "https://localhost:8080/"
        },
        "id": "8JyGSRcNX4aM",
        "outputId": "f9c63598-ee15-4963-f358-9acae5356334"
      },
      "execution_count": 9,
      "outputs": [
        {
          "output_type": "stream",
          "name": "stdout",
          "text": [
            "Line Count: 1\n"
          ]
        }
      ]
    },
    {
      "cell_type": "code",
      "source": [
        "fhand = open('mbox-short.txt')\n",
        "inp = fhand.read()\n",
        "print(len(inp))"
      ],
      "metadata": {
        "colab": {
          "base_uri": "https://localhost:8080/"
        },
        "id": "-VWue6s0YEmI",
        "outputId": "fed8be0a-701d-46a7-ef0c-5cc43570fce4"
      },
      "execution_count": 10,
      "outputs": [
        {
          "output_type": "stream",
          "name": "stdout",
          "text": [
            "8\n"
          ]
        }
      ]
    },
    {
      "cell_type": "code",
      "source": [
        "print(inp[:20])"
      ],
      "metadata": {
        "colab": {
          "base_uri": "https://localhost:8080/"
        },
        "id": "LuC5A0DAYJin",
        "outputId": "089e5121-8d96-41ee-c6d7-3ee39cd59a5c"
      },
      "execution_count": 11,
      "outputs": [
        {
          "output_type": "stream",
          "name": "stdout",
          "text": [
            "rwerttte\n"
          ]
        }
      ]
    },
    {
      "cell_type": "code",
      "source": [
        "fhand = open('mbox-short.txt')\n",
        "print(len(fhand.read()))"
      ],
      "metadata": {
        "colab": {
          "base_uri": "https://localhost:8080/"
        },
        "id": "MXkwrCbpYLee",
        "outputId": "dbeedf17-63be-4b61-9b3c-994ec4d463f5"
      },
      "execution_count": 12,
      "outputs": [
        {
          "output_type": "stream",
          "name": "stdout",
          "text": [
            "8\n"
          ]
        }
      ]
    },
    {
      "cell_type": "code",
      "source": [
        "print(len(fhand.read()))"
      ],
      "metadata": {
        "id": "WBcNSFc3YU8n",
        "colab": {
          "base_uri": "https://localhost:8080/"
        },
        "outputId": "c612ac13-8588-494e-ddc4-5cb3efc57a65"
      },
      "execution_count": 13,
      "outputs": [
        {
          "output_type": "stream",
          "name": "stdout",
          "text": [
            "0\n"
          ]
        }
      ]
    },
    {
      "cell_type": "markdown",
      "source": [
        "SEARCHING THROUGH A FILE"
      ],
      "metadata": {
        "id": "IfxpSHUAYZX2"
      }
    },
    {
      "cell_type": "code",
      "source": [
        "fhand = open('mbox-short.txt')\n",
        "for line in fhand:\n",
        "    if line.startswith('From:'):\n",
        "        print(line)"
      ],
      "metadata": {
        "id": "Ahk2oNifYdG3"
      },
      "execution_count": 14,
      "outputs": []
    },
    {
      "cell_type": "code",
      "source": [
        "fhand = open('mbox-short.txt')\n",
        "for line in fhand:\n",
        "    line = line.rstrip()\n",
        "    if line.startswith('From:'):\n",
        "        print(line)"
      ],
      "metadata": {
        "id": "f_SOGo7AYgPn"
      },
      "execution_count": 15,
      "outputs": []
    },
    {
      "cell_type": "code",
      "source": [
        "fhand = open('mbox-short.txt')\n",
        "for line in fhand:\n",
        "    line = line.rstrip()\n",
        "    if not line.startswith('From:'):\n",
        "        continue\n",
        "    print(line)"
      ],
      "metadata": {
        "id": "76Wi9azHYsun"
      },
      "execution_count": 16,
      "outputs": []
    },
    {
      "cell_type": "code",
      "source": [
        "fhand = open('mbox-short.txt')\n",
        "for line in fhand:\n",
        "    line = line.rstrip()\n",
        "    if line.find('@uct.ac.za') == -1:\n",
        "        continue\n",
        "    print(line)"
      ],
      "metadata": {
        "id": "wpLazJGpYxEe"
      },
      "execution_count": 17,
      "outputs": []
    },
    {
      "cell_type": "markdown",
      "source": [
        "LETTING THE USER CHOOSE THE FILE NAME"
      ],
      "metadata": {
        "id": "7FMvFG0jY5SP"
      }
    },
    {
      "cell_type": "code",
      "source": [
        "fname = input('Enter the file name: ')\n",
        "fhand = open(fname)\n",
        "count = 0\n",
        "for line in fhand:\n",
        "    if line.startswith('Subject:'):\n",
        "        count = count + 1\n",
        "print('There were', count, 'subject lines in', fname)"
      ],
      "metadata": {
        "id": "QStoRjvLY8xv",
        "colab": {
          "base_uri": "https://localhost:8080/"
        },
        "outputId": "7420fc71-8c21-47a4-ea98-0b1748d0aaf2"
      },
      "execution_count": 19,
      "outputs": [
        {
          "output_type": "stream",
          "name": "stdout",
          "text": [
            "Enter the file name: mbox.txt\n",
            "There were 0 subject lines in mbox.txt\n"
          ]
        }
      ]
    },
    {
      "cell_type": "markdown",
      "source": [
        "USING TRY, EXCEPT, AND OPEN"
      ],
      "metadata": {
        "id": "2qFRvThyZOn2"
      }
    },
    {
      "cell_type": "code",
      "source": [
        "fname = input('Enter the file name: ')\n",
        "try:\n",
        "   fhand = open(fname)\n",
        "except:\n",
        "   print('File cannot be opened:', fname)\n",
        "   exit()\n",
        "count = 0\n",
        "for line in fhand:\n",
        "    if line.startswith('Subject:'):\n",
        "        count = count + 1\n",
        "print('There were', count, 'subject lines in', fname)"
      ],
      "metadata": {
        "id": "Tq8J2hILZVGm",
        "colab": {
          "base_uri": "https://localhost:8080/"
        },
        "outputId": "1da569db-b718-4a32-92a9-1613efa6a8e7"
      },
      "execution_count": 20,
      "outputs": [
        {
          "output_type": "stream",
          "name": "stdout",
          "text": [
            "Enter the file name: mbox-short.txt\n",
            "There were 0 subject lines in mbox-short.txt\n"
          ]
        }
      ]
    },
    {
      "cell_type": "markdown",
      "source": [
        "Writing files"
      ],
      "metadata": {
        "id": "bLD41Y6RZewG"
      }
    },
    {
      "cell_type": "code",
      "source": [
        "fout = open('output.txt', 'w')"
      ],
      "metadata": {
        "id": "vG8a6fKoZhIH"
      },
      "execution_count": 21,
      "outputs": []
    },
    {
      "cell_type": "code",
      "source": [
        "line1 = \"This here's the wattle,\\n\"\n",
        "fout.write(line1)"
      ],
      "metadata": {
        "id": "qmZl2icXZjYv",
        "colab": {
          "base_uri": "https://localhost:8080/"
        },
        "outputId": "ae1f053a-9b06-439a-978f-66e96a351c15"
      },
      "execution_count": 22,
      "outputs": [
        {
          "output_type": "execute_result",
          "data": {
            "text/plain": [
              "24"
            ]
          },
          "metadata": {},
          "execution_count": 22
        }
      ]
    },
    {
      "cell_type": "code",
      "source": [
        "line2 = 'the emblem of our land.\\n'\n",
        "fout.write(line2)"
      ],
      "metadata": {
        "id": "h8t6cTHhZvhV",
        "colab": {
          "base_uri": "https://localhost:8080/"
        },
        "outputId": "dbe0036e-3e48-4015-b653-3ee6b207ea8c"
      },
      "execution_count": 23,
      "outputs": [
        {
          "output_type": "execute_result",
          "data": {
            "text/plain": [
              "24"
            ]
          },
          "metadata": {},
          "execution_count": 23
        }
      ]
    },
    {
      "cell_type": "code",
      "source": [
        "fout.close()"
      ],
      "metadata": {
        "id": "FPGhxRO-Z2Y9"
      },
      "execution_count": 24,
      "outputs": []
    },
    {
      "cell_type": "markdown",
      "source": [
        "SUPPLEMENTARY"
      ],
      "metadata": {
        "id": "9KXHbEujLt77"
      }
    },
    {
      "cell_type": "code",
      "source": [
        "#1\n",
        "supple = open('DISOMNONG.txt')\n",
        "obs = supple.read()\n",
        "print(obs)"
      ],
      "metadata": {
        "colab": {
          "base_uri": "https://localhost:8080/"
        },
        "id": "q2SHfhTkLwSi",
        "outputId": "2154a24e-00ba-47f2-9bee-a7b7b2600416"
      },
      "execution_count": 39,
      "outputs": [
        {
          "output_type": "stream",
          "name": "stdout",
          "text": [
            "ANALYSIS:\n",
            "This code opens a file named Surname.txt using the open() function, which defaults to read mode. \n"
          ]
        }
      ]
    },
    {
      "cell_type": "code",
      "source": [
        "#2\n",
        "\n",
        "#Create\n",
        "supple = open('DISOMNONG.txt')\n",
        "\n",
        "#Read\n",
        "obs = supple.read()\n",
        "print(obs)\n"
      ],
      "metadata": {
        "colab": {
          "base_uri": "https://localhost:8080/"
        },
        "id": "gRXpzdvQOCzR",
        "outputId": "88f01b1d-3c4c-443a-d8d5-c68b1a2b513d"
      },
      "execution_count": 40,
      "outputs": [
        {
          "output_type": "stream",
          "name": "stdout",
          "text": [
            "ANALYSIS:\n",
            "This code opens a file named Surname.txt using the open() function, which defaults to read mode. \n"
          ]
        }
      ]
    },
    {
      "cell_type": "code",
      "source": [
        "#2\n",
        "\n",
        "#Update\n",
        "supple = open('DISOMNONG.txt', 'w')\n",
        "line1 = \"Basic operations you can perform on data, especially in the context of databases or persistent storage systems.\"\n",
        "supple.write(line1)\n",
        "supple.close()\n",
        "\n",
        "#Read\n",
        "supple = open('DISOMNONG.txt')\n",
        "obs = supple.read()\n",
        "print(obs)"
      ],
      "metadata": {
        "colab": {
          "base_uri": "https://localhost:8080/"
        },
        "id": "zTkyIf2GRUcz",
        "outputId": "ea0e417b-cc6a-42f3-ca06-403c2a1c018c"
      },
      "execution_count": 45,
      "outputs": [
        {
          "output_type": "stream",
          "name": "stdout",
          "text": [
            "Basic operations you can perform on data, especially in the context of databases or persistent storage systems.\n"
          ]
        }
      ]
    },
    {
      "cell_type": "code",
      "source": [
        "#Delete\n",
        "!unlink DISOMNONG.txt"
      ],
      "metadata": {
        "id": "u2wZuGCbThfD"
      },
      "execution_count": 46,
      "outputs": []
    }
  ]
}