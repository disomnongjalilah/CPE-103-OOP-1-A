{
  "nbformat": 4,
  "nbformat_minor": 0,
  "metadata": {
    "colab": {
      "provenance": [],
      "authorship_tag": "ABX9TyME1EKOMGNmg6eYhlKPpCUC",
      "include_colab_link": true
    },
    "kernelspec": {
      "name": "python3",
      "display_name": "Python 3"
    },
    "language_info": {
      "name": "python"
    }
  },
  "cells": [
    {
      "cell_type": "markdown",
      "metadata": {
        "id": "view-in-github",
        "colab_type": "text"
      },
      "source": [
        "<a href=\"https://colab.research.google.com/github/disomnongjalilah/CPE-103-OOP-1-A/blob/main/Laboratory_Activity_No_3_1_Introduction_to_Object_Oriented_Programming.ipynb\" target=\"_parent\"><img src=\"https://colab.research.google.com/assets/colab-badge.svg\" alt=\"Open In Colab\"/></a>"
      ]
    },
    {
      "cell_type": "code",
      "source": [
        "\"\"\"\n",
        "    Account.py\n",
        "\"\"\"\n",
        "\n",
        "class Account():\n",
        "  account_number = 0\n",
        "  account_firstname = \" \"\n",
        "  account_lastname = \" \"\n",
        "  current_balance = 0\n",
        "  address = \" \"\n",
        "  email = \" \"\n",
        "\n",
        "  def update_adress(new_address):\n",
        "    Account.address = new_address\n",
        "\n",
        "  def update_email(new_email):\n",
        "    Account.email = new_email"
      ],
      "metadata": {
        "id": "bxlFIFNa2zmF"
      },
      "execution_count": null,
      "outputs": []
    },
    {
      "cell_type": "code",
      "source": [
        "\"\"\"\n",
        "    ATM.py\n",
        "\"\"\"\n",
        "\n",
        "class ATM():\n",
        "  serial_number = 0\n",
        "\n",
        "  def deposit(self, account, amount):\n",
        "    account.current_balance = account.current_balance + amount\n",
        "    print(\"Deposit Complete\")\n",
        "\n",
        "  def withdraw(self, account, amount):\n",
        "    account.current_balance = account.current_balance - amount\n",
        "    print(\"Withdraw Complete\")\n",
        "\n",
        "  def check_currentbalance(self, account):\n",
        "    print(account.current_balance)"
      ],
      "metadata": {
        "id": "LOUJhbRh34y8"
      },
      "execution_count": null,
      "outputs": []
    },
    {
      "cell_type": "code",
      "source": [
        "\"\"\"\n",
        "    main.py\n",
        "\"\"\"\n",
        "\n",
        "Account1 = Account()\n",
        "\n",
        "print(\"Account 1\")\n",
        "Account1.account_firstname = \"Royce\"\n",
        "Account1.account_lastname = \"Chua\"\n",
        "Account1.current_balance = \"1000\"\n",
        "Account1.address = \"Silver Street Quezon City\"\n",
        "Account1.email = \"roycechua123@gmail.com\"\n",
        "\n",
        "print(Account1.account_firstname)\n",
        "print(Account1.account_lastname)\n",
        "print(Account1.current_balance)\n",
        "print(Account1.address)\n",
        "print(Account1.email)\n",
        "\n",
        "print()\n",
        "Account2 = Account()\n",
        "Account2.account_firstname = \"John\"\n",
        "Account2.account_lastname = \"Doe\"\n",
        "Account2.current_balance = 2000\n",
        "Account2.address = \"Gold Street Quezon City\"\n",
        "Account2.email = \"johndoe@gmail.com\"\n",
        "\n",
        "print(\"Account 2\")\n",
        "print(Account2.account_firstname)\n",
        "print(Account2.account_lastname)\n",
        "print(Account2.current_balance)\n",
        "print(Account2.address)\n",
        "print(Account2.email)\n",
        "\n"
      ],
      "metadata": {
        "colab": {
          "base_uri": "https://localhost:8080/"
        },
        "id": "ter_W-bU4mCd",
        "outputId": "0243ac09-06ee-4434-b814-d424654b52c8"
      },
      "execution_count": null,
      "outputs": [
        {
          "output_type": "stream",
          "name": "stdout",
          "text": [
            "Account 1\n",
            "Royce\n",
            "Chua\n",
            "1000\n",
            "Silver Street Quezon City\n",
            "roycechua123@gmail.com\n",
            "\n",
            "Account 2\n",
            "John\n",
            "Doe\n",
            "2000\n",
            "Gold Street Quezon City\n",
            "johndoe@gmail.com\n"
          ]
        }
      ]
    },
    {
      "cell_type": "markdown",
      "source": [
        "**TASKS**"
      ],
      "metadata": {
        "id": "6yP-S--FtYbk"
      }
    },
    {
      "cell_type": "code",
      "source": [
        "class Account:\n",
        "    def __init__(self, account_number, first_name, last_name, current_balance, address, email):\n",
        "        self.account_number = account_number\n",
        "        self.account_firstname = first_name\n",
        "        self.account_lastname = last_name\n",
        "        self.current_balance = current_balance\n",
        "        self.address = address\n",
        "        self.email = email\n",
        "\n",
        "class ATM:\n",
        "    serial_number = 0\n",
        "\n",
        "    def __init__(self):\n",
        "        self.transaction_history = []\n",
        "\n",
        "    def deposit(self, account, amount):\n",
        "        account.current_balance += amount\n",
        "        self.transaction_history.append(f\"Account {account.account_number} Deposit ${amount} \")\n",
        "        print(\"Deposit Complete\")\n",
        "\n",
        "    def withdraw(self, account, amount):\n",
        "        if amount <= account.current_balance:\n",
        "            account.current_balance -= amount\n",
        "            self.transaction_history.append(f\"Account {account.account_number} Withdraw ${amount} \")\n",
        "            print(\"Withdraw Complete\")\n",
        "        else:\n",
        "            print(\"Insufficient funds\")\n",
        "\n",
        "    def check_currentbalance(self, account):\n",
        "        print(account.current_balance)\n",
        "\n",
        "    def view_transactionsummary(self):\n",
        "        print(\"\\nTransaction Summary\")\n",
        "        if not self.transaction_history:\n",
        "            print(\"No transactions yet.\")\n",
        "        for transaction in self.transaction_history:\n",
        "            print(transaction)\n",
        "\n",
        "\n",
        "Account1 = Account(123456, \"First name: Royce\", \"Last name: Chua\", 1000 , \"Address: Silver Street Quezon City\", \"Email: roycechua123@gmail.com\")\n",
        "Account2 = Account(654321, \"First name: John\", \"Last name: Doe\", 2000, \"Address: Golden Street Quezon City\", \"Email: johndoe@yahoo.com\")\n",
        "\n",
        "\n",
        "print(\"Account 1\")\n",
        "print(Account1.account_firstname)\n",
        "print(Account1.account_lastname)\n",
        "print(Account1.current_balance)\n",
        "print(Account1.address)\n",
        "print(Account1.email)\n",
        "\n",
        "print()\n",
        "print(\"Account 2\")\n",
        "print(Account2.account_firstname)\n",
        "print(Account2.account_lastname)\n",
        "print(Account2.current_balance)\n",
        "print(Account2.address)\n",
        "print(Account2.email)\n",
        "\n",
        "\n",
        "ATM1 = ATM()\n",
        "print(\"\\nAccount 1\")\n",
        "ATM1.deposit(Account1, 500)\n",
        "ATM1.check_currentbalance(Account1)\n",
        "\n",
        "print(\"\\nAccount 2\")\n",
        "ATM1.withdraw(Account2, 300)\n",
        "ATM1.check_currentbalance(Account2)\n",
        "\n",
        "\n",
        "ATM1.view_transactionsummary()\n"
      ],
      "metadata": {
        "colab": {
          "base_uri": "https://localhost:8080/"
        },
        "id": "dvjQ2E5qAjMV",
        "outputId": "fd9edf01-958e-46e5-a96c-4ad468f7a05a"
      },
      "execution_count": null,
      "outputs": [
        {
          "output_type": "stream",
          "name": "stdout",
          "text": [
            "Account 1\n",
            "First name: Royce\n",
            "Last name: Chua\n",
            "1000\n",
            "Address: Silver Street Quezon City\n",
            "Email: roycechua123@gmail.com\n",
            "\n",
            "Account 2\n",
            "First name: John\n",
            "Last name: Doe\n",
            "2000\n",
            "Address: Golden Street Quezon City\n",
            "Email: johndoe@yahoo.com\n",
            "\n",
            "Account 1\n",
            "Deposit Complete\n",
            "1500\n",
            "\n",
            "Account 2\n",
            "Withdraw Complete\n",
            "1700\n",
            "\n",
            "Transaction Summary\n",
            "Account 123456 Deposit $500 \n",
            "Account 654321 Withdraw $300 \n"
          ]
        }
      ]
    }
  ]
}