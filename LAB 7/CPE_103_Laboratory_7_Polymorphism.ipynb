{
  "nbformat": 4,
  "nbformat_minor": 0,
  "metadata": {
    "colab": {
      "provenance": [],
      "authorship_tag": "ABX9TyNdSkOMAPXqvk0SJBfOiN0f",
      "include_colab_link": true
    },
    "kernelspec": {
      "name": "python3",
      "display_name": "Python 3"
    },
    "language_info": {
      "name": "python"
    }
  },
  "cells": [
    {
      "cell_type": "markdown",
      "metadata": {
        "id": "view-in-github",
        "colab_type": "text"
      },
      "source": [
        "<a href=\"https://colab.research.google.com/github/disomnongjalilah/CPE-103-OOP-1-A/blob/main/CPE_103_Laboratory_7_Polymorphism.ipynb\" target=\"_parent\"><img src=\"https://colab.research.google.com/assets/colab-badge.svg\" alt=\"Open In Colab\"/></a>"
      ]
    },
    {
      "cell_type": "code",
      "execution_count": 7,
      "metadata": {
        "id": "WJsZ0PnBygH-",
        "colab": {
          "base_uri": "https://localhost:8080/"
        },
        "outputId": "373c5613-e78e-488d-ce6c-c72e9e85a4ac"
      },
      "outputs": [
        {
          "output_type": "stream",
          "name": "stdout",
          "text": [
            "Enter feet and inches of distance1: 76 89\n",
            "Enter feet and inches of distance2: 78 90\n",
            "Distance2 is greater or equal to Distance1\n",
            "Sum of the two Distance is:\n",
            "Feet=  155 Inches=  167\n"
          ]
        }
      ],
      "source": [
        "# distance is a class. Distance is measured in terms of feet and inches\n",
        "class distance:\n",
        "   def __init__(self, f, i):\n",
        "       self.feet = f\n",
        "       self.inches = i\n",
        "\n",
        "# overloading of binary operator > to compare two distances\n",
        "   def __gt__(self, d):\n",
        "       if(self.feet>d.feet):\n",
        "         return(True)\n",
        "       elif((self.feet==d.feet) and (self.inches>d.inches)):\n",
        "         return(True)\n",
        "       else:\n",
        "         return(False)\n",
        "\n",
        "# overloading of binary operator + to add two distances\n",
        "   def __add__(self, d):\n",
        "       i=self.inches + d.inches\n",
        "       f=self.feet + d.feet\n",
        "       if(i>=12):\n",
        "         i=i-12\n",
        "         f=f+1\n",
        "       return distance(f,i)\n",
        "\n",
        "# displaying the distance\n",
        "   def show(self):\n",
        "       print(\"Feet= \", self.feet, \"Inches= \",self.inches)\n",
        "\n",
        "a, b = (input(\"Enter feet and inches of distance1: \")).split()\n",
        "a, b =[int(a),int(b)]\n",
        "c, d = (input(\"Enter feet and inches of distance2: \")).split()\n",
        "c, d =[int(c),int(d)]\n",
        "d1 = distance(a, b)\n",
        "d2 = distance(c, d)\n",
        "\n",
        "if(d1>d2):\n",
        "      print(\"Distance1 is greater than Distance2\")\n",
        "else:\n",
        "      print(\"Distance2 is greater or equal to Distance1\")\n",
        "      d3=d1+d2\n",
        "      print(\"Sum of the two Distance is:\")\n",
        "      d3.show()"
      ]
    },
    {
      "cell_type": "code",
      "source": [
        "class RegularPolygon():\n",
        "    def __init__(self, side):\n",
        "        self._side = side\n",
        "class Square(RegularPolygon):\n",
        "    def area(self):\n",
        "        return self._side + self._side\n",
        "class EquilateralTriangle(RegularPolygon):\n",
        "    def area(self):\n",
        "        return self._side * self._side * 0.433\n",
        "\n",
        "obj1 = Square(4)\n",
        "obj2 = EquilateralTriangle(3)\n",
        "\n",
        "print(obj1.area())\n",
        "print(obj2.area())"
      ],
      "metadata": {
        "id": "Rgek0i43370f",
        "colab": {
          "base_uri": "https://localhost:8080/"
        },
        "outputId": "7fb74159-88b8-4ab5-ca3d-58dfc642cae1"
      },
      "execution_count": 12,
      "outputs": [
        {
          "output_type": "stream",
          "name": "stdout",
          "text": [
            "8\n",
            "3.897\n"
          ]
        }
      ]
    },
    {
      "cell_type": "markdown",
      "source": [
        "# Supplementary Activity"
      ],
      "metadata": {
        "id": "-NUbJ1sdC_I4"
      }
    },
    {
      "cell_type": "code",
      "source": [
        "class RegularPolygon():\n",
        "    def __init__(self, side):\n",
        "        self._side = side\n",
        "class Square(RegularPolygon):\n",
        "    def area(self):\n",
        "        return self._side + self._side\n",
        "class EquilateralTriangle(RegularPolygon):\n",
        "    def area(self):\n",
        "        return self._side * self._side * 0.433\n",
        "class Pentagon(RegularPolygon):\n",
        "    def area(self):\n",
        "        return self._side * self._side * 2.598\n",
        "class Heptagon(RegularPolygon):\n",
        "    def area(self):\n",
        "        return self._side * self._side * 1.577\n",
        "class Octagon(RegularPolygon):\n",
        "    def area(self):\n",
        "        return 2 * self._side * self._side * 2.414\n",
        "\n",
        "\n",
        "\n",
        "obj1 = Square(4)\n",
        "obj2 = EquilateralTriangle(3)\n",
        "obj3 = Pentagon(5)\n",
        "obj4 = Heptagon(7)\n",
        "obj5 = Octagon(8)\n",
        "\n",
        "print(obj1.area())\n",
        "print(obj2.area())\n",
        "print(obj3.area())\n",
        "print(obj4.area())\n",
        "print(obj5.area())"
      ],
      "metadata": {
        "colab": {
          "base_uri": "https://localhost:8080/"
        },
        "id": "u4jWwWYPDFEm",
        "outputId": "eea3627c-ec83-4b15-9fdc-7b87c7bfc02b"
      },
      "execution_count": 13,
      "outputs": [
        {
          "output_type": "stream",
          "name": "stdout",
          "text": [
            "8\n",
            "3.897\n",
            "64.95\n",
            "77.273\n",
            "308.992\n"
          ]
        }
      ]
    }
  ]
}