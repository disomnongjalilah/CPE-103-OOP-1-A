{
  "nbformat": 4,
  "nbformat_minor": 0,
  "metadata": {
    "colab": {
      "provenance": [],
      "authorship_tag": "ABX9TyM17a48ZfFnDH7zr/ibU/lh",
      "include_colab_link": true
    },
    "kernelspec": {
      "name": "python3",
      "display_name": "Python 3"
    },
    "language_info": {
      "name": "python"
    }
  },
  "cells": [
    {
      "cell_type": "markdown",
      "metadata": {
        "id": "view-in-github",
        "colab_type": "text"
      },
      "source": [
        "<a href=\"https://colab.research.google.com/github/disomnongjalilah/CPE-103-OOP-1-A/blob/main/CPE_103_Laboratory_No_2_Literals_Operators_and_Variables_docx.ipynb\" target=\"_parent\"><img src=\"https://colab.research.google.com/assets/colab-badge.svg\" alt=\"Open In Colab\"/></a>"
      ]
    },
    {
      "cell_type": "markdown",
      "source": [
        "Assigning variables of different data types in Python"
      ],
      "metadata": {
        "id": "WN0qEn3pmQsv"
      }
    },
    {
      "cell_type": "markdown",
      "source": [
        "Performing Operations"
      ],
      "metadata": {
        "id": "aBnMl_nEq--B"
      }
    },
    {
      "cell_type": "code",
      "source": [
        "value = 5\n",
        "print(value)"
      ],
      "metadata": {
        "colab": {
          "base_uri": "https://localhost:8080/"
        },
        "id": "cuILHGZMLCwR",
        "outputId": "148fc8e6-fb7f-471c-9c89-77046492d7e6"
      },
      "execution_count": null,
      "outputs": [
        {
          "output_type": "stream",
          "name": "stdout",
          "text": [
            "5\n"
          ]
        }
      ]
    },
    {
      "cell_type": "code",
      "source": [
        "value = 5\n",
        "type(value)"
      ],
      "metadata": {
        "colab": {
          "base_uri": "https://localhost:8080/"
        },
        "id": "3n3wAwdJLJFp",
        "outputId": "6eaf4e4f-2d57-4dc5-9ce8-51d3a6dc8b6f"
      },
      "execution_count": null,
      "outputs": [
        {
          "output_type": "execute_result",
          "data": {
            "text/plain": [
              "int"
            ]
          },
          "metadata": {},
          "execution_count": 90
        }
      ]
    },
    {
      "cell_type": "code",
      "source": [
        "#a\n",
        "value = 2+3j\n",
        "print(value)\n",
        "type(value)\n"
      ],
      "metadata": {
        "colab": {
          "base_uri": "https://localhost:8080/"
        },
        "id": "Cr01BBSYLQ-Q",
        "outputId": "9ad2f2d7-cb49-45f8-8c28-3e46fb8b4d67"
      },
      "execution_count": null,
      "outputs": [
        {
          "output_type": "stream",
          "name": "stdout",
          "text": [
            "(2+3j)\n"
          ]
        },
        {
          "output_type": "execute_result",
          "data": {
            "text/plain": [
              "complex"
            ]
          },
          "metadata": {},
          "execution_count": 69
        }
      ]
    },
    {
      "cell_type": "code",
      "source": [
        "#b\n",
        "value = 'Hello World'\n",
        "print(value)\n",
        "type(value)\n"
      ],
      "metadata": {
        "colab": {
          "base_uri": "https://localhost:8080/"
        },
        "id": "b4ijClZPLWRp",
        "outputId": "b4cfa896-cf2e-412c-d05e-d1b9eb7378af"
      },
      "execution_count": null,
      "outputs": [
        {
          "output_type": "stream",
          "name": "stdout",
          "text": [
            "Hello World\n"
          ]
        },
        {
          "output_type": "execute_result",
          "data": {
            "text/plain": [
              "str"
            ]
          },
          "metadata": {},
          "execution_count": 70
        }
      ]
    },
    {
      "cell_type": "code",
      "source": [
        "#c\n",
        "value = \"Hello World\"\n",
        "print(value)\n",
        "type(value)\n"
      ],
      "metadata": {
        "colab": {
          "base_uri": "https://localhost:8080/"
        },
        "id": "z2BFLRwELZIS",
        "outputId": "c89ec896-ee89-49da-9d4a-a95a51c0bc08"
      },
      "execution_count": null,
      "outputs": [
        {
          "output_type": "stream",
          "name": "stdout",
          "text": [
            "Hello World\n"
          ]
        },
        {
          "output_type": "execute_result",
          "data": {
            "text/plain": [
              "str"
            ]
          },
          "metadata": {},
          "execution_count": 72
        }
      ]
    },
    {
      "cell_type": "code",
      "source": [
        "#d\n",
        "value = True\n",
        "print(value)\n",
        "type(value)\n"
      ],
      "metadata": {
        "colab": {
          "base_uri": "https://localhost:8080/"
        },
        "id": "LRCEnUddLatZ",
        "outputId": "7e02abe0-56ec-4bc5-b48c-048f487a4920"
      },
      "execution_count": null,
      "outputs": [
        {
          "output_type": "stream",
          "name": "stdout",
          "text": [
            "True\n"
          ]
        },
        {
          "output_type": "execute_result",
          "data": {
            "text/plain": [
              "bool"
            ]
          },
          "metadata": {},
          "execution_count": 73
        }
      ]
    },
    {
      "cell_type": "code",
      "source": [
        "#e\n",
        "value = False\n",
        "print(value)\n",
        "type(value)\n"
      ],
      "metadata": {
        "colab": {
          "base_uri": "https://localhost:8080/"
        },
        "id": "8rVx53alLcJy",
        "outputId": "d75bcb2f-3dd9-430e-e2df-173bef970bd6"
      },
      "execution_count": null,
      "outputs": [
        {
          "output_type": "stream",
          "name": "stdout",
          "text": [
            "False\n"
          ]
        },
        {
          "output_type": "execute_result",
          "data": {
            "text/plain": [
              "bool"
            ]
          },
          "metadata": {},
          "execution_count": 74
        }
      ]
    },
    {
      "cell_type": "code",
      "source": [
        "#f\n",
        "value = [1,2,3,4,5]\n",
        "print(value)\n",
        "type(value)\n"
      ],
      "metadata": {
        "colab": {
          "base_uri": "https://localhost:8080/"
        },
        "id": "CGEO2Tf3LjdT",
        "outputId": "d3995059-da04-4f8d-e35d-2425d9f6d4ef"
      },
      "execution_count": null,
      "outputs": [
        {
          "output_type": "stream",
          "name": "stdout",
          "text": [
            "[1, 2, 3, 4, 5]\n"
          ]
        },
        {
          "output_type": "execute_result",
          "data": {
            "text/plain": [
              "list"
            ]
          },
          "metadata": {},
          "execution_count": 75
        }
      ]
    },
    {
      "cell_type": "code",
      "source": [
        "#g\n",
        "value = (1,2,3,4,5)\n",
        "print(value)\n",
        "type(value)\n"
      ],
      "metadata": {
        "colab": {
          "base_uri": "https://localhost:8080/"
        },
        "id": "tUT7wlNcLl1R",
        "outputId": "123b6ec9-b3f9-4335-ae04-145037aeff99"
      },
      "execution_count": null,
      "outputs": [
        {
          "output_type": "stream",
          "name": "stdout",
          "text": [
            "(1, 2, 3, 4, 5)\n"
          ]
        },
        {
          "output_type": "execute_result",
          "data": {
            "text/plain": [
              "tuple"
            ]
          },
          "metadata": {},
          "execution_count": 76
        }
      ]
    },
    {
      "cell_type": "code",
      "source": [
        "#h\n",
        "value = {'name':'Royce'}\n",
        "print(value)\n",
        "type(value)"
      ],
      "metadata": {
        "colab": {
          "base_uri": "https://localhost:8080/"
        },
        "id": "hBthM2MMLoCB",
        "outputId": "6decfaaf-a280-40bc-fd84-afb2f95b2a01"
      },
      "execution_count": null,
      "outputs": [
        {
          "output_type": "stream",
          "name": "stdout",
          "text": [
            "{'name': 'Name'}\n"
          ]
        },
        {
          "output_type": "execute_result",
          "data": {
            "text/plain": [
              "dict"
            ]
          },
          "metadata": {},
          "execution_count": 82
        }
      ]
    },
    {
      "cell_type": "code",
      "source": [
        "#i\n",
        "value = None\n",
        "print(value)\n",
        "type(value)\n"
      ],
      "metadata": {
        "colab": {
          "base_uri": "https://localhost:8080/"
        },
        "id": "_2Jy6rF2LyDC",
        "outputId": "ef58e9c2-f46c-4258-9c61-87a60cc69c30"
      },
      "execution_count": null,
      "outputs": [
        {
          "output_type": "stream",
          "name": "stdout",
          "text": [
            "None\n"
          ]
        },
        {
          "output_type": "execute_result",
          "data": {
            "text/plain": [
              "NoneType"
            ]
          },
          "metadata": {},
          "execution_count": 83
        }
      ]
    },
    {
      "cell_type": "code",
      "source": [
        "#6\n",
        "value = 5\n",
        "print(value)\n",
        "type(value)\n"
      ],
      "metadata": {
        "colab": {
          "base_uri": "https://localhost:8080/"
        },
        "id": "UVE5eDksMJ1J",
        "outputId": "7fbf985b-23f2-4da9-e38b-a9d0a1cab17f"
      },
      "execution_count": null,
      "outputs": [
        {
          "output_type": "stream",
          "name": "stdout",
          "text": [
            "5\n"
          ]
        },
        {
          "output_type": "execute_result",
          "data": {
            "text/plain": [
              "int"
            ]
          },
          "metadata": {},
          "execution_count": 87
        }
      ]
    },
    {
      "cell_type": "code",
      "source": [
        "#a\n",
        "value = 5.0\n",
        "value2 = 6\n",
        "print(value+value2)\n",
        "\n",
        "#b\n",
        "value=-5\n",
        "value2=6.1\n",
        "print(value+value2)\n",
        "\n",
        "#c\n",
        "value, value2=\"Hello\", \" World\"\n",
        "print(value+value2)\n",
        "\n",
        "\n",
        "#d\n",
        "value, value2=[1,2,3], [4,5,6]\n",
        "print(value+value2)\n",
        "\n",
        "#e\n",
        "value, value2=(1,2,3), (4,5,6)\n",
        "print(value+value2)\n",
        "\n",
        "#f\n",
        "value, value2 ={\"name\": \"Rose\"}, {\"age\": \"2\"}\n",
        "print(value, value2)\n",
        "\n",
        "\n"
      ],
      "metadata": {
        "colab": {
          "base_uri": "https://localhost:8080/"
        },
        "id": "ViXxx8ZUrBoA",
        "outputId": "cac23d53-fa15-4c61-853b-521807354097"
      },
      "execution_count": null,
      "outputs": [
        {
          "output_type": "stream",
          "name": "stdout",
          "text": [
            "11.0\n",
            "1.0999999999999996\n",
            "Hello World\n",
            "[1, 2, 3, 4, 5, 6]\n",
            "(1, 2, 3, 4, 5, 6)\n",
            "{'name': 'Rose'} {'age': '2'}\n"
          ]
        }
      ]
    },
    {
      "cell_type": "code",
      "source": [
        "#a\n",
        "value = 5.0\n",
        "value2 = 6\n",
        "print(value-value2)\n",
        "\n",
        "#b\n",
        "value=-5\n",
        "value2=6.1\n",
        "print(value-value2)\n",
        "\n"
      ],
      "metadata": {
        "colab": {
          "base_uri": "https://localhost:8080/"
        },
        "id": "kIBiNdbTtUi5",
        "outputId": "a9b11422-499c-4654-c69f-ddef43a65f2f"
      },
      "execution_count": null,
      "outputs": [
        {
          "output_type": "stream",
          "name": "stdout",
          "text": [
            "-1.0\n",
            "-11.1\n"
          ]
        }
      ]
    },
    {
      "cell_type": "code",
      "source": [
        "value, value2=30, 4\n",
        "\n",
        "#a\n",
        "print(value*value2)\n",
        "\n",
        "#b\n",
        "print(value2**2)\n",
        "\n",
        "#c\n",
        "print(value2**3)\n",
        "\n",
        "#d\n",
        "print(value*value2+value2**2+1)\n",
        "\n",
        "#e\n",
        "print(value/value2)\n",
        "\n",
        "#f\n",
        "print(value%value2)"
      ],
      "metadata": {
        "colab": {
          "base_uri": "https://localhost:8080/"
        },
        "id": "cB9H2xzTuc2q",
        "outputId": "72221ac8-f069-42ab-cce3-9d78f813dae2"
      },
      "execution_count": null,
      "outputs": [
        {
          "output_type": "stream",
          "name": "stdout",
          "text": [
            "120\n",
            "16\n",
            "64\n",
            "137\n",
            "7.5\n",
            "2\n"
          ]
        }
      ]
    },
    {
      "cell_type": "markdown",
      "source": [
        "Assigning Input Data to a Variable"
      ],
      "metadata": {
        "id": "XIr5-j6OvG6F"
      }
    },
    {
      "cell_type": "code",
      "source": [
        "input(\"Enter your name: \")\n",
        "weight=float(input(\"Enter your weight(kg): \"))\n",
        "height=float(input(\"Enter your meters(m): \"))\n",
        "bmi= weight/height**2\n",
        "print(bmi)\n"
      ],
      "metadata": {
        "colab": {
          "base_uri": "https://localhost:8080/"
        },
        "id": "3skE-acMvMo6",
        "outputId": "2153f71f-f2da-4d2a-9f92-289650a8b03f"
      },
      "execution_count": null,
      "outputs": [
        {
          "output_type": "stream",
          "name": "stdout",
          "text": [
            "Enter your name: John Ray\n",
            "Enter your weight(kg): 60\n",
            "Enter your meters(m): 1.6764\n",
            "21.349904958763087\n"
          ]
        }
      ]
    },
    {
      "cell_type": "markdown",
      "source": [
        "Supplementary Activity"
      ],
      "metadata": {
        "id": "Okhggidtwa5i"
      }
    },
    {
      "cell_type": "code",
      "source": [
        "#1.\tWrite the Python equivalent code of the following C code:\n",
        "\n",
        "input(\"Enter the base of the triangle: \")\n",
        "input(\"Enter the height of the triangle: \")\n",
        "area = (1/2)*base*height;\n",
        "print(\"The area of the triangle is: \", area);\n",
        "\n"
      ],
      "metadata": {
        "colab": {
          "base_uri": "https://localhost:8080/"
        },
        "id": "GFwuFPeLx_a7",
        "outputId": "407ee521-21b7-46be-f80a-db616b50ee76"
      },
      "execution_count": null,
      "outputs": [
        {
          "output_type": "stream",
          "name": "stdout",
          "text": [
            "Enter the base of the triangle: 21\n",
            "Enter the height of the triangle: 12\n",
            "The area of the triangle is:  31.5\n"
          ]
        }
      ]
    },
    {
      "cell_type": "code",
      "source": [
        "#2.\tWrite a program that would convert Celsius to Fahrenheit given the formula: F = (C × 9/5) + 32 Example of conversion:\n",
        "\n",
        "C=float(input(\"Enter the temperature in Celsius: \"))\n",
        "F = (C * 9/5) + 32\n",
        "print(\"The temperature in Fahrenheit is: \", F)"
      ],
      "metadata": {
        "colab": {
          "base_uri": "https://localhost:8080/"
        },
        "id": "rvtEkR0Zzrzs",
        "outputId": "aa0c46fd-77ea-460b-d83d-59b6efd533f3"
      },
      "execution_count": null,
      "outputs": [
        {
          "output_type": "stream",
          "name": "stdout",
          "text": [
            "Enter the temperature in Celsius: 0\n",
            "The temperature in Fahrenheit is:  32.0\n"
          ]
        }
      ]
    },
    {
      "cell_type": "code",
      "source": [
        "#3.\tWrite a program that can determine the distance between two points given the coordinates  formula:\n",
        "\n",
        "x1=float(input(\"Enter the x-coordinate of the first point: \"))\n",
        "y1=float(input(\"Enter the y-coordinate of the first point: \"))\n",
        "x2=float(input(\"Enter the x-coordinate of the second point: \"))\n",
        "y2=float(input(\"Enter the y-coordinate of the second point: \"))\n",
        "\n",
        "d=((x2-x1)**2+(y2-y1)**2)**0.5\n",
        "print(\"The distance between the two points is: \", d)"
      ],
      "metadata": {
        "colab": {
          "base_uri": "https://localhost:8080/"
        },
        "id": "k-XRgGtB0j10",
        "outputId": "8a191a5d-c1c4-41d1-b761-b9d162bae980"
      },
      "execution_count": null,
      "outputs": [
        {
          "output_type": "stream",
          "name": "stdout",
          "text": [
            "Enter the x-coordinate of the first point: 2\n",
            "Enter the y-coordinate of the first point: 2\n",
            "Enter the x-coordinate of the second point: -3\n",
            "Enter the y-coordinate of the second point: 3\n",
            "The distance between the two points is:  5.0990195135927845\n"
          ]
        }
      ]
    },
    {
      "cell_type": "code",
      "source": [],
      "metadata": {
        "id": "WC19l8Qq1f50"
      },
      "execution_count": null,
      "outputs": []
    }
  ]
}