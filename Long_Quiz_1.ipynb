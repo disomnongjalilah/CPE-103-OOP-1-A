{
  "nbformat": 4,
  "nbformat_minor": 0,
  "metadata": {
    "colab": {
      "provenance": [],
      "authorship_tag": "ABX9TyO4tEXcOfUXF07iJ/WHt7t5",
      "include_colab_link": true
    },
    "kernelspec": {
      "name": "python3",
      "display_name": "Python 3"
    },
    "language_info": {
      "name": "python"
    }
  },
  "cells": [
    {
      "cell_type": "markdown",
      "metadata": {
        "id": "view-in-github",
        "colab_type": "text"
      },
      "source": [
        "<a href=\"https://colab.research.google.com/github/disomnongjalilah/CPE-103-OOP-1-A/blob/main/Long_Quiz_1.ipynb\" target=\"_parent\"><img src=\"https://colab.research.google.com/assets/colab-badge.svg\" alt=\"Open In Colab\"/></a>"
      ]
    },
    {
      "cell_type": "code",
      "execution_count": 8,
      "metadata": {
        "colab": {
          "base_uri": "https://localhost:8080/"
        },
        "id": "3lduUzdtgOO4",
        "outputId": "55db1998-467c-4e61-a3ea-611635fd97f0"
      },
      "outputs": [
        {
          "output_type": "stream",
          "name": "stdout",
          "text": [
            "Student ID: 00001\n",
            "Student Number: Ana\n",
            "Program: BS in Computer Engineering\n",
            "Sex: Female\n",
            "Weight: 50\n",
            "Height: 160\n",
            "Course: CPE103\n",
            "Midterm Grade: 61.599999999999994\n",
            "Final Grade: 81.27\n",
            "Grade: 2.50\n"
          ]
        }
      ],
      "source": [
        "class Student:\n",
        "    def __init__(self, name, student_number, program, sex, weight, height, course=\"CPE103\"):\n",
        "        self.name = name\n",
        "        self.student_number = student_number\n",
        "        self.program = program\n",
        "        self.sex = sex\n",
        "        self.weight = weight\n",
        "        self.height = height\n",
        "        self.course = course\n",
        "        self.prelim_grade = 0\n",
        "        self.midterm_grade = 0\n",
        "        self.final_grade = 0\n",
        "\n",
        "    def calculate_cs(self, hands_on_activity, quiz, assignment):\n",
        "        return 0.5 * hands_on_activity + 0.3 * quiz + 0.2 * assignment\n",
        "\n",
        "    def calculate_prelim_grade(self, hands_on_activity, quiz, assignment, prelim_exam):\n",
        "        prelim_cs = self.calculate_cs(hands_on_activity, quiz, assignment)\n",
        "        self.prelim_grade = 0.5 * prelim_exam + 0.5 * prelim_cs\n",
        "        return self.prelim_grade\n",
        "\n",
        "    def calculate_midterm_grade(self, hands_on_activity, quiz, assignment, midterm_exam):\n",
        "        midterm_cs = self.calculate_cs(hands_on_activity, quiz, assignment)\n",
        "        self.midterm_grade = (0.3 * self.prelim_grade) + (0.7 * midterm_cs)\n",
        "        return self.midterm_grade\n",
        "\n",
        "    def calculate_final_grade(self, hands_on_activity, quiz, assignment, final_exam):\n",
        "        final_cs = self.calculate_cs(hands_on_activity, quiz, assignment)\n",
        "        self.final_grade = 0.3 * self.midterm_grade + 0.7 * final_cs\n",
        "        return self.final_grade\n",
        "\n",
        "    def get_letter_grade(self):\n",
        "        if self.final_grade >= 98:\n",
        "            return \"1.0\"\n",
        "        elif self.final_grade >= 95:\n",
        "            return \"1.25\"\n",
        "        elif self.final_grade >= 92:\n",
        "            return \"1.5\"\n",
        "        elif self.final_grade >= 90:\n",
        "            return \"1.75\"\n",
        "        elif self.final_grade >= 86:\n",
        "            return \"2.0\"\n",
        "        elif self.final_grade >= 85:\n",
        "            return \"2.25\"\n",
        "        elif self.final_grade >= 80:\n",
        "            return \"2.50\"\n",
        "        elif self.final_grade <= 60:\n",
        "            return \"3.0\"\n",
        "        else:\n",
        "            return \"5.0\"\n",
        "\n",
        "    def display_student_info(self):\n",
        "        print(\"Student ID:\", self.name)\n",
        "        print(\"Student Number:\", self.student_number)\n",
        "        print(\"Program:\", self.program)\n",
        "        print(\"Sex:\", self.sex)\n",
        "        print(\"Weight:\", self.weight)\n",
        "        print(\"Height:\", self.height)\n",
        "        print(\"Course:\", self.course)\n",
        "\n",
        "    def display_student_info(self):\n",
        "        print(\"Student ID:\", self.name)\n",
        "        print(\"Student Number:\", self.student_number)\n",
        "        print(\"Program:\", self.program)\n",
        "        print(\"Sex:\", self.sex)\n",
        "        print(\"Weight:\", self.weight)\n",
        "        print(\"Height:\", self.height)\n",
        "        print(\"Course:\", self.course)\n",
        "\n",
        "    def display_student_info(self):\n",
        "        print(\"Student ID:\", self.name)\n",
        "        print(\"Student Number:\", self.student_number)\n",
        "        print(\"Program:\", self.program)\n",
        "        print(\"Sex:\", self.sex)\n",
        "        print(\"Weight:\", self.weight)\n",
        "        print(\"Height:\", self.height)\n",
        "        print(\"Course:\", self.course)\n",
        "\n",
        "\n",
        "\n",
        "\n",
        "student = Student(\"00001\", \"Ana\", \"BS in Computer Engineering\", \"Female\", \"50\", \"160\")\n",
        "student.display_student_info()\n",
        "\n",
        "\n",
        "midterm_grade = student.calculate_midterm_grade(90, 78, 98,90)\n",
        "print(\"Midterm Grade:\", midterm_grade)\n",
        "\n",
        "final_grade = student.calculate_final_grade(90,89,90,95)\n",
        "\n",
        "print(\"Final Grade:\", final_grade)\n",
        "\n",
        "print(\"Grade:\", student.get_letter_grade())\n",
        "\n",
        "\n",
        "\n",
        "\n",
        "\n"
      ]
    }
  ]
}