{
  "nbformat": 4,
  "nbformat_minor": 0,
  "metadata": {
    "colab": {
      "provenance": [],
      "authorship_tag": "ABX9TyNwD43+zukf3Uvgz7ZcQkJX",
      "include_colab_link": true
    },
    "kernelspec": {
      "name": "python3",
      "display_name": "Python 3"
    },
    "language_info": {
      "name": "python"
    }
  },
  "cells": [
    {
      "cell_type": "markdown",
      "metadata": {
        "id": "view-in-github",
        "colab_type": "text"
      },
      "source": [
        "<a href=\"https://colab.research.google.com/github/disomnongjalilah/CPE-103-OOP-1-A/blob/main/OOP_CONCEPT.ipynb\" target=\"_parent\"><img src=\"https://colab.research.google.com/assets/colab-badge.svg\" alt=\"Open In Colab\"/></a>"
      ]
    },
    {
      "cell_type": "markdown",
      "source": [
        "Class Consrtuctor"
      ],
      "metadata": {
        "id": "raVxY44D7wIl"
      }
    },
    {
      "cell_type": "code",
      "source": [
        "class Car:\n",
        "    def __init__(self,name,model,color):\n",
        "        self.name = name\n",
        "        self.model = model\n",
        "        self.color = color"
      ],
      "metadata": {
        "id": "CyKU2jAQ8CuQ"
      },
      "execution_count": 5,
      "outputs": []
    },
    {
      "cell_type": "markdown",
      "source": [
        "Class Method"
      ],
      "metadata": {
        "id": "yvOmA_yB9mN5"
      }
    },
    {
      "cell_type": "code",
      "source": [
        "class Car:\n",
        "  car_type = \"Sedan\"\n",
        "\n",
        "  def _init_(self, name, mileage):\n",
        "    self.name = name\n",
        "    self.mileage = mileage\n",
        "\n",
        "    def description(self):\n",
        "      return \"The (self.name) car gives the mileage of (self.mileage)km/l\"\n",
        "\n",
        "      def max_speed(self,speed):\n",
        "        return \"The (self.name) runs at the maximum speed of (speed)km/hr\""
      ],
      "metadata": {
        "id": "uaTL7uVs9pj6"
      },
      "execution_count": 14,
      "outputs": []
    },
    {
      "cell_type": "markdown",
      "source": [
        "Multiple Objects with the same class"
      ],
      "metadata": {
        "id": "MjmsHkNb_RAt"
      }
    },
    {
      "cell_type": "code",
      "source": [
        "class Car:     #parent class\n",
        "    def __init__(self, name, mileage):\n",
        "        self.name = name\n",
        "        self.mileage = mileage\n",
        "\n",
        "    def description(self):\n",
        "         return f\"The {self.name} car gives the mileage of {self.mileage}km/l\"\n",
        "\n",
        "class BMW(Car):      #child class\n",
        "     pass\n",
        "\n",
        "class Audi(Car):        #child class\n",
        "    def audi_desc(self):\n",
        "         return \"This is the description method of class Audi.\"\n",
        "\n",
        "\n",
        "bmw = BMW (\"BMW 7-series\",39.53)\n",
        "print(bmw.description())\n",
        "\n",
        ""
      ],
      "metadata": {
        "colab": {
          "base_uri": "https://localhost:8080/"
        },
        "id": "I4KxBPJ1_Tu8",
        "outputId": "2c5adcf0-0c49-47ba-d405-8fa488506b90"
      },
      "execution_count": 44,
      "outputs": [
        {
          "output_type": "stream",
          "name": "stdout",
          "text": [
            "The BMW 7-series car gives the mileage of 39.53km/l\n"
          ]
        }
      ]
    },
    {
      "cell_type": "markdown",
      "source": [
        "Apply the OOP concept like class, constructor, methods inheritance, object inheritance to describe the sizes of 3 shapes (e.g Triangle, Square, Rectangle)"
      ],
      "metadata": {
        "id": "hSwcBxZuFkgv"
      }
    },
    {
      "cell_type": "code",
      "source": [
        "class Shapes:\n",
        "  def __init__(self, name, sides):\n",
        "    self.name = name\n",
        "    self.sides = sides\n",
        "\n",
        "  def description(self):\n",
        "    return f\"The {self.name} has {self.sides} sides.\"\n",
        "\n",
        "class Triangle(Shapes):\n",
        "    pass\n",
        "class Square(Shapes):\n",
        "    pass\n",
        "class Rectangle(Shapes):\n",
        "    pass\n",
        "\n",
        "triangle = Triangle(\"Triangle\",3)\n",
        "print(triangle.description())\n",
        "square = Square(\"Square\",4)\n",
        "print(square.description())\n",
        "rectangle = Rectangle(\"Rectangle\",4)\n",
        "print(rectangle.description())\n"
      ],
      "metadata": {
        "colab": {
          "base_uri": "https://localhost:8080/"
        },
        "id": "Lya8YofBGMpZ",
        "outputId": "da0bd667-fcbf-4d81-a49a-5cd48b4f1695"
      },
      "execution_count": 65,
      "outputs": [
        {
          "output_type": "stream",
          "name": "stdout",
          "text": [
            "The Triangle has 3 sides.\n",
            "The Square has 4 sides.\n",
            "The Rectangle has 4 sides.\n"
          ]
        }
      ]
    }
  ]
}