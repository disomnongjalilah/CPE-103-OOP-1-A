{
  "nbformat": 4,
  "nbformat_minor": 0,
  "metadata": {
    "colab": {
      "provenance": [],
      "authorship_tag": "ABX9TyPsatyo8c2N7+hX3acEy5C2",
      "include_colab_link": true
    },
    "kernelspec": {
      "name": "python3",
      "display_name": "Python 3"
    },
    "language_info": {
      "name": "python"
    }
  },
  "cells": [
    {
      "cell_type": "markdown",
      "metadata": {
        "id": "view-in-github",
        "colab_type": "text"
      },
      "source": [
        "<a href=\"https://colab.research.google.com/github/disomnongjalilah/CPE-103-OOP-1-A/blob/main/CPE_103_Laboratory_Activity_5_Functions_Modules_and_Packages.ipynb\" target=\"_parent\"><img src=\"https://colab.research.google.com/assets/colab-badge.svg\" alt=\"Open In Colab\"/></a>"
      ]
    },
    {
      "cell_type": "markdown",
      "source": [
        "Functions"
      ],
      "metadata": {
        "id": "TFtiXUnFz-yT"
      }
    },
    {
      "cell_type": "code",
      "execution_count": null,
      "metadata": {
        "colab": {
          "base_uri": "https://localhost:8080/"
        },
        "id": "zIor9LcrymAe",
        "outputId": "0b21efe5-e99f-415f-f838-77cbae635651"
      },
      "outputs": [
        {
          "output_type": "stream",
          "name": "stdout",
          "text": [
            "Propositional logic evaluator for discrete math\n",
            "How many variables? 2\n",
            "Enter the propositional logic expression: A\n",
            "A B f\n",
            "0 0 0\n",
            "0 1 0\n",
            "1 0 1\n",
            "1 1 1\n"
          ]
        }
      ],
      "source": [
        "# Propositionsl Logic Evaluator for discrete math for 2-3 varialbles\n",
        "print(\"Propositional logic evaluator for discrete math\")\n",
        "variables = int(input(\"How many variables? \"))\n",
        "total_combinations = 2**variables\n",
        "\n",
        "combination_list = []\n",
        "\n",
        "for i in range(total_combinations):\n",
        "    bin_equivalent = bin(i)[2:]\n",
        "    while len(bin_equivalent) < variables:\n",
        "        bin_equivalent = \"0\" + bin_equivalent\n",
        "    combination_list.append(tuple(int(val) for val in bin_equivalent))\n",
        "\n",
        "expression = input(\"Enter the propositional logic expression: \")\n",
        "\n",
        "if variables == 2:\n",
        "    print(\"A B f\")\n",
        "    for A,B in combination_list:\n",
        "        evaluated_expression = eval(expression)\n",
        "        print(A,B, evaluated_expression)\n",
        "elif variables == 3:\n",
        "    print(\"A B C f\")\n",
        "    for A,B,C in combination_list:\n",
        "        evaluated_expression = eval(expression)\n",
        "        print(A,B,C, evaluated_expression)"
      ]
    },
    {
      "cell_type": "code",
      "source": [
        "name = \"Royce Chua\"\n",
        "file = open(\"newfile.txt\", 'w')\n",
        "file.write(f\"Hello, {name}!\\n\")\n",
        "file.write(\"Isn't this amazing!\\n\")\n",
        "file.write(\"that we can create and write on text file\\n\")\n",
        "file.write(\"using Python.\")\n",
        "file.close()"
      ],
      "metadata": {
        "id": "U9hiXQmj3Ich"
      },
      "execution_count": null,
      "outputs": []
    },
    {
      "cell_type": "code",
      "source": [
        "file = open(\"newfile.txt\", 'r')\n",
        "data = file.read()\n",
        "print(data)\n",
        "file.close()"
      ],
      "metadata": {
        "colab": {
          "base_uri": "https://localhost:8080/"
        },
        "id": "XKuViJ5D4JhO",
        "outputId": "7cfbbe3d-b454-4935-93b0-70c0afc0df0d"
      },
      "execution_count": null,
      "outputs": [
        {
          "output_type": "stream",
          "name": "stdout",
          "text": [
            "Hello, Royce Chua!\n",
            "Isn't this amazing!\n",
            "that we can create and write on text file\n",
            "using Python.\n"
          ]
        }
      ]
    },
    {
      "cell_type": "code",
      "source": [
        "file = open(\"newfile.txt\",'a')\n",
        "file.write(\"and also by the programmer of course\")\n",
        "file.close()"
      ],
      "metadata": {
        "id": "woGJeFva40yN"
      },
      "execution_count": null,
      "outputs": []
    },
    {
      "cell_type": "markdown",
      "source": [
        "User-defined Funtions"
      ],
      "metadata": {
        "id": "-KsmO4i7MaaV"
      }
    },
    {
      "cell_type": "code",
      "source": [
        "def generate_truthtable(number_of_variables):\n",
        "    if number_of_variables == 0:\n",
        "        return \"You need to enter an integer\"\n",
        "    else:\n",
        "        total_combinations = 2**number_of_variables\n",
        "        combinations_list = []\n",
        "        for i in range(total_combinations):\n",
        "            bin_equivalent = bin(i)[2:]\n",
        "            while len(bin_equivalent) < number_of_variables:\n",
        "                bin_equivalent = \"0\" + bin_equivalent\n",
        "            combinations_list.append(tuple(int(val) for val in bin_equivalent))\n",
        "        return combinations_list"
      ],
      "metadata": {
        "id": "Vw21QCS96YuN"
      },
      "execution_count": null,
      "outputs": []
    },
    {
      "cell_type": "markdown",
      "source": [
        "Modules"
      ],
      "metadata": {
        "id": "J6iw6ulGNitc"
      }
    },
    {
      "cell_type": "code",
      "source": [
        "def evaluate_propositional_logic(expression, combinations_list):\n",
        "    if len(combinations_list) == 0:\n",
        "        pass"
      ],
      "metadata": {
        "id": "oAAYfQP0NQuu"
      },
      "execution_count": null,
      "outputs": []
    },
    {
      "cell_type": "code",
      "source": [
        "def quadratic_formula(a,b,c):\n",
        "    if b**2-(4*a*c):\n",
        "        x1 = (complex(-b,math.floor(math.sqrt(b**2-(4*a*c)))))/(2*a)\n",
        "        x2 = (complex(-b,math.ceil(math.sqrt(b**2-(4*a*c)))))/(2*a)\n",
        "        return x1, x2\n",
        "    else:\n",
        "        x1 = (-b+math.sqrt(b**2-(4*a*c)))/(2*a)\n",
        "        x2 = (-b-math.sqrt(b**2-(4*a*c)))/(2*a)\n",
        "        return x1, x2"
      ],
      "metadata": {
        "id": "VFS-DK_cNyBs"
      },
      "execution_count": null,
      "outputs": []
    },
    {
      "cell_type": "code",
      "source": [
        "def angle_demo():\n",
        "    angle = math.sin(math.pi/2)\n",
        "    print(angle)\n",
        "    angle = math.sin(math.radians(90))\n",
        "    print(angle)"
      ],
      "metadata": {
        "id": "UQsNqW0AOb7V"
      },
      "execution_count": null,
      "outputs": []
    },
    {
      "cell_type": "code",
      "source": [
        "def pause():\n",
        "    for i in range(10,0,-1):\n",
        "        print(f\"The program will end in {i}..\")\n",
        "        time.sleep(1)"
      ],
      "metadata": {
        "id": "CJgul5y0O-M1"
      },
      "execution_count": null,
      "outputs": []
    },
    {
      "cell_type": "code",
      "source": [
        "import time\n",
        "def current_time():\n",
        "    current_time = time.strftime(\"%I:%M:%p\")\n",
        "    return current_time\n",
        "\n",
        "print(current_time())\n",
        "\n",
        "def current_date():\n",
        "    current_date = time.strftime(\"%b:%d:%Y\")\n",
        "    return current_date\n",
        "\n",
        "print(current_date())"
      ],
      "metadata": {
        "colab": {
          "base_uri": "https://localhost:8080/"
        },
        "id": "QaAcRj4PPS5E",
        "outputId": "3e666943-d0d2-4967-9fee-cc5db3653142"
      },
      "execution_count": null,
      "outputs": [
        {
          "output_type": "stream",
          "name": "stdout",
          "text": [
            "11:00:AM\n",
            "Feb:15:2025\n"
          ]
        }
      ]
    },
    {
      "cell_type": "code",
      "source": [
        "print(\"The current time\", current_time())\n",
        "print(\"The current date\", current_date())"
      ],
      "metadata": {
        "colab": {
          "base_uri": "https://localhost:8080/"
        },
        "id": "ixGYR9JWQEJu",
        "outputId": "7866b672-440f-47df-d398-537423b907fc"
      },
      "execution_count": null,
      "outputs": [
        {
          "output_type": "stream",
          "name": "stdout",
          "text": [
            "The current time 11:02:AM\n",
            "The current date Feb:15:2025\n"
          ]
        }
      ]
    },
    {
      "cell_type": "markdown",
      "source": [
        "## Supplementary Activity"
      ],
      "metadata": {
        "id": "POOWD-lXRkYM"
      }
    },
    {
      "cell_type": "code",
      "source": [
        "#1.\n",
        "\n",
        "def WordFilter(word, word2):\n",
        "    self.word = word\n",
        "\n",
        "def WordFilter(word, word2):\n",
        "    word = word.replace('stupid','******')\n",
        "    word2 = word2.replace('asshole', '*******')\n",
        "    print(word, word2)\n",
        "\n",
        "message = WordFilter(\"This is so stupid\", \"and you are asshole\")"
      ],
      "metadata": {
        "id": "LbQh60y6RkJQ",
        "colab": {
          "base_uri": "https://localhost:8080/"
        },
        "outputId": "639a291e-1d03-4d0c-e477-6b0bb29b3553"
      },
      "execution_count": null,
      "outputs": [
        {
          "output_type": "stream",
          "name": "stdout",
          "text": [
            "This is so ****** and you are *******\n"
          ]
        }
      ]
    },
    {
      "cell_type": "code",
      "source": [
        "#2.\n",
        "\n",
        "import math\n",
        "\n",
        "def projectilemotion_solver(velocity, angle):\n",
        "    g = 9.8\n",
        "    angle_rad = math.radians(angle)\n",
        "    R = (velocity**2 * math.sin(2 * angle_rad)) / g\n",
        "    H = (velocity**2 * (math.sin(angle_rad)**2)) / (2 * g)\n",
        "    return R, H\n",
        "\n",
        "velocity = 11.0\n",
        "angle = 20.0\n",
        "\n",
        "range_result, height_result = projectilemotion_solver(velocity, angle)\n",
        "\n",
        "print(f\"Horizontal range (distance): {range_result:.2f} meters\")\n",
        "print(f\"Maximum height: {height_result:.2f} meters\")"
      ],
      "metadata": {
        "id": "eFl6Q5ngSuPd",
        "colab": {
          "base_uri": "https://localhost:8080/"
        },
        "outputId": "6eb3fe82-e7bc-49e8-88de-1c1485cc23d0"
      },
      "execution_count": null,
      "outputs": [
        {
          "output_type": "stream",
          "name": "stdout",
          "text": [
            "Horizontal range (distance): 7.94 meters\n",
            "Maximum height: 0.72 meters\n"
          ]
        }
      ]
    },
    {
      "cell_type": "code",
      "source": [
        "#3.\n",
        "\n",
        "import math\n",
        "\n",
        "def quadratic_formula(a,b,c):\n",
        "    if b**2-(4*a*c) < 0:\n",
        "        x1 = (complex(-b,math.sqrt(abs(b**2-(4*a*c)))))/(2*a)\n",
        "        x2 = (complex(-b,-math.sqrt(abs(b**2-(4*a*c)))))/(2*a)\n",
        "        return x1, x2\n",
        "    else:\n",
        "        x1 = (-b+math.sqrt(b**2-(4*a*c)))/(2*a)\n",
        "        x2 = (-b-math.sqrt(b**2-(4*a*c)))/(2*a)\n",
        "        return x1, x2\n",
        "\n",
        "x = quadratic_formula(2,-9,4)\n",
        "print(x)"
      ],
      "metadata": {
        "id": "-MBokWOwRLW0",
        "colab": {
          "base_uri": "https://localhost:8080/"
        },
        "outputId": "8f29bc13-03bb-4d66-a73c-148dfd10ac90"
      },
      "execution_count": null,
      "outputs": [
        {
          "output_type": "stream",
          "name": "stdout",
          "text": [
            "(4.0, 0.5)\n"
          ]
        }
      ]
    }
  ]
}