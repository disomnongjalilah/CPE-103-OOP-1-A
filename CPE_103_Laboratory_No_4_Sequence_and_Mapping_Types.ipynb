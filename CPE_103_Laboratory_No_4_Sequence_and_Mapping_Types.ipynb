{
  "nbformat": 4,
  "nbformat_minor": 0,
  "metadata": {
    "colab": {
      "provenance": [],
      "authorship_tag": "ABX9TyOqHxRj5nleeSxoOUG5E8Tb",
      "include_colab_link": true
    },
    "kernelspec": {
      "name": "python3",
      "display_name": "Python 3"
    },
    "language_info": {
      "name": "python"
    }
  },
  "cells": [
    {
      "cell_type": "markdown",
      "metadata": {
        "id": "view-in-github",
        "colab_type": "text"
      },
      "source": [
        "<a href=\"https://colab.research.google.com/github/disomnongjalilah/CPE-103-OOP-1-A/blob/main/CPE_103_Laboratory_No_4_Sequence_and_Mapping_Types.ipynb\" target=\"_parent\"><img src=\"https://colab.research.google.com/assets/colab-badge.svg\" alt=\"Open In Colab\"/></a>"
      ]
    },
    {
      "cell_type": "markdown",
      "source": [
        "# List"
      ],
      "metadata": {
        "id": "SNJ0eL5fL2NB"
      }
    },
    {
      "cell_type": "code",
      "source": [
        "#a\n",
        "numberlist = [5, 4, 2, 1, 3]\n",
        "\n",
        "len(numberlist)"
      ],
      "metadata": {
        "colab": {
          "base_uri": "https://localhost:8080/"
        },
        "id": "JwRRTa39HKYw",
        "outputId": "8878fca7-ed37-46c8-dfe6-daf28b841d67"
      },
      "execution_count": 5,
      "outputs": [
        {
          "output_type": "stream",
          "name": "stdout",
          "text": [
            "5\n"
          ]
        }
      ]
    },
    {
      "cell_type": "code",
      "source": [
        "#b\n",
        "numberlist = [5, 4, 2, 1, 3]\n",
        "\n",
        "print(numberlist[0])"
      ],
      "metadata": {
        "colab": {
          "base_uri": "https://localhost:8080/"
        },
        "id": "ZxnnM0YTH7CJ",
        "outputId": "b2b0cb11-c31b-44cd-8d48-2b80943781ae"
      },
      "execution_count": 6,
      "outputs": [
        {
          "output_type": "stream",
          "name": "stdout",
          "text": [
            "5\n"
          ]
        }
      ]
    },
    {
      "cell_type": "code",
      "source": [
        "#c\n",
        "numberlist = [5, 4, 2, 1, 3]\n",
        "\n",
        "print(numberlist[1])"
      ],
      "metadata": {
        "colab": {
          "base_uri": "https://localhost:8080/"
        },
        "id": "DqoxlQQPIKah",
        "outputId": "186c01d2-6ca6-4d4a-8c4c-494bb71adde8"
      },
      "execution_count": 7,
      "outputs": [
        {
          "output_type": "stream",
          "name": "stdout",
          "text": [
            "4\n"
          ]
        }
      ]
    },
    {
      "cell_type": "code",
      "source": [
        "#d\n",
        "numberlist = [5, 4, 2, 1, 3]\n",
        "\n",
        "print(numberlist[2])"
      ],
      "metadata": {
        "colab": {
          "base_uri": "https://localhost:8080/"
        },
        "id": "ApV5Hpy5IKjp",
        "outputId": "d2f32287-041a-4947-9588-9b32384e9b29"
      },
      "execution_count": 8,
      "outputs": [
        {
          "output_type": "stream",
          "name": "stdout",
          "text": [
            "2\n"
          ]
        }
      ]
    },
    {
      "cell_type": "code",
      "source": [
        "#e\n",
        "numberlist = [5, 4, 2, 1, 3]\n",
        "\n",
        "print(numberlist[3])"
      ],
      "metadata": {
        "colab": {
          "base_uri": "https://localhost:8080/"
        },
        "id": "ZG5xRjzRIK9A",
        "outputId": "e562a21d-4104-4819-fece-cc425dcabbd0"
      },
      "execution_count": 9,
      "outputs": [
        {
          "output_type": "stream",
          "name": "stdout",
          "text": [
            "1\n"
          ]
        }
      ]
    },
    {
      "cell_type": "code",
      "source": [
        "#f\n",
        "numberlist = [5, 4, 2, 1, 3]\n",
        "\n",
        "print(numberlist[4])"
      ],
      "metadata": {
        "colab": {
          "base_uri": "https://localhost:8080/"
        },
        "id": "8Be8PVGBILAx",
        "outputId": "f5a389e4-c7bb-4f0f-9a6c-c69aea956343"
      },
      "execution_count": 10,
      "outputs": [
        {
          "output_type": "stream",
          "name": "stdout",
          "text": [
            "3\n"
          ]
        }
      ]
    },
    {
      "cell_type": "code",
      "source": [
        "#g\n",
        "numberlist = [5, 4, 2, 1, 3]\n",
        "\n",
        "print(numberlist[5])"
      ],
      "metadata": {
        "colab": {
          "base_uri": "https://localhost:8080/",
          "height": 182
        },
        "id": "A0cPfv03ILDg",
        "outputId": "09113c48-8617-48fb-de74-2e47f466e45e"
      },
      "execution_count": 12,
      "outputs": [
        {
          "output_type": "error",
          "ename": "IndexError",
          "evalue": "list index out of range",
          "traceback": [
            "\u001b[0;31m---------------------------------------------------------------------------\u001b[0m",
            "\u001b[0;31mIndexError\u001b[0m                                Traceback (most recent call last)",
            "\u001b[0;32m<ipython-input-12-024657ad3e05>\u001b[0m in \u001b[0;36m<cell line: 0>\u001b[0;34m()\u001b[0m\n\u001b[1;32m      2\u001b[0m \u001b[0mvarList\u001b[0m \u001b[0;34m=\u001b[0m \u001b[0;34m[\u001b[0m\u001b[0;36m5\u001b[0m\u001b[0;34m,\u001b[0m \u001b[0;36m4\u001b[0m\u001b[0;34m,\u001b[0m \u001b[0;36m2\u001b[0m\u001b[0;34m,\u001b[0m \u001b[0;36m1\u001b[0m\u001b[0;34m,\u001b[0m \u001b[0;36m3\u001b[0m\u001b[0;34m]\u001b[0m\u001b[0;34m\u001b[0m\u001b[0;34m\u001b[0m\u001b[0m\n\u001b[1;32m      3\u001b[0m \u001b[0;34m\u001b[0m\u001b[0m\n\u001b[0;32m----> 4\u001b[0;31m \u001b[0mprint\u001b[0m\u001b[0;34m(\u001b[0m\u001b[0mvarList\u001b[0m\u001b[0;34m[\u001b[0m\u001b[0;36m5\u001b[0m\u001b[0;34m]\u001b[0m\u001b[0;34m)\u001b[0m\u001b[0;34m\u001b[0m\u001b[0;34m\u001b[0m\u001b[0m\n\u001b[0m",
            "\u001b[0;31mIndexError\u001b[0m: list index out of range"
          ]
        }
      ]
    },
    {
      "cell_type": "code",
      "source": [
        "#h\n",
        "varList = [5, 4, 2, 1, 3]\n",
        "\n",
        "print(varList[-1])"
      ],
      "metadata": {
        "colab": {
          "base_uri": "https://localhost:8080/"
        },
        "id": "j6Cicb6iILF4",
        "outputId": "98b11d30-570c-48e8-b8d2-11f8b2382455"
      },
      "execution_count": 13,
      "outputs": [
        {
          "output_type": "stream",
          "name": "stdout",
          "text": [
            "3\n"
          ]
        }
      ]
    },
    {
      "cell_type": "code",
      "source": [
        "#i\n",
        "numberlist = [5, 4, 2, 1, 3]\n",
        "\n",
        "print(numberlist[-2])"
      ],
      "metadata": {
        "colab": {
          "base_uri": "https://localhost:8080/"
        },
        "id": "SbZj3duRILIh",
        "outputId": "4febef99-6dfb-42f8-b152-eeca57740a10"
      },
      "execution_count": 14,
      "outputs": [
        {
          "output_type": "stream",
          "name": "stdout",
          "text": [
            "1\n"
          ]
        }
      ]
    },
    {
      "cell_type": "code",
      "source": [
        "#j\n",
        "numberlist = [5, 4, 2, 1, 3]\n",
        "\n",
        "print(numberlist[-3])"
      ],
      "metadata": {
        "colab": {
          "base_uri": "https://localhost:8080/"
        },
        "id": "a0LgQBlbINjx",
        "outputId": "751d9750-bc0f-48a8-8e88-28d405029da3"
      },
      "execution_count": 15,
      "outputs": [
        {
          "output_type": "stream",
          "name": "stdout",
          "text": [
            "2\n"
          ]
        }
      ]
    },
    {
      "cell_type": "code",
      "source": [
        "#k\n",
        "numberlist = [5, 4, 2, 1, 3]\n",
        "\n",
        "print(numberlist[-4])"
      ],
      "metadata": {
        "colab": {
          "base_uri": "https://localhost:8080/"
        },
        "id": "fGfQqVJNINyB",
        "outputId": "cdf2d36b-e2d9-4fdc-a05d-e91a78adc16b"
      },
      "execution_count": 16,
      "outputs": [
        {
          "output_type": "stream",
          "name": "stdout",
          "text": [
            "4\n"
          ]
        }
      ]
    },
    {
      "cell_type": "code",
      "source": [
        "#l\n",
        "numberlist = [5, 4, 2, 1, 3]\n",
        "\n",
        "print(numberlist[-5])"
      ],
      "metadata": {
        "colab": {
          "base_uri": "https://localhost:8080/"
        },
        "id": "Qlk4TYC9IN-R",
        "outputId": "d55d05bc-0262-4f57-a378-16130a344c0e"
      },
      "execution_count": 17,
      "outputs": [
        {
          "output_type": "stream",
          "name": "stdout",
          "text": [
            "5\n"
          ]
        }
      ]
    },
    {
      "cell_type": "code",
      "source": [
        "#m\n",
        "numberlist = [5, 4, 2, 1, 3]\n",
        "\n",
        "print(numberlist[-6])"
      ],
      "metadata": {
        "colab": {
          "base_uri": "https://localhost:8080/",
          "height": 182
        },
        "id": "xvjKN6O1Ijwg",
        "outputId": "25084810-592b-4050-9040-ddd9cffe6257"
      },
      "execution_count": 18,
      "outputs": [
        {
          "output_type": "error",
          "ename": "IndexError",
          "evalue": "list index out of range",
          "traceback": [
            "\u001b[0;31m---------------------------------------------------------------------------\u001b[0m",
            "\u001b[0;31mIndexError\u001b[0m                                Traceback (most recent call last)",
            "\u001b[0;32m<ipython-input-18-ec474552897b>\u001b[0m in \u001b[0;36m<cell line: 0>\u001b[0;34m()\u001b[0m\n\u001b[1;32m      2\u001b[0m \u001b[0mvarList\u001b[0m \u001b[0;34m=\u001b[0m \u001b[0;34m[\u001b[0m\u001b[0;36m5\u001b[0m\u001b[0;34m,\u001b[0m \u001b[0;36m4\u001b[0m\u001b[0;34m,\u001b[0m \u001b[0;36m2\u001b[0m\u001b[0;34m,\u001b[0m \u001b[0;36m1\u001b[0m\u001b[0;34m,\u001b[0m \u001b[0;36m3\u001b[0m\u001b[0;34m]\u001b[0m\u001b[0;34m\u001b[0m\u001b[0;34m\u001b[0m\u001b[0m\n\u001b[1;32m      3\u001b[0m \u001b[0;34m\u001b[0m\u001b[0m\n\u001b[0;32m----> 4\u001b[0;31m \u001b[0mprint\u001b[0m\u001b[0;34m(\u001b[0m\u001b[0mvarList\u001b[0m\u001b[0;34m[\u001b[0m\u001b[0;34m-\u001b[0m\u001b[0;36m6\u001b[0m\u001b[0;34m]\u001b[0m\u001b[0;34m)\u001b[0m\u001b[0;34m\u001b[0m\u001b[0;34m\u001b[0m\u001b[0m\n\u001b[0m",
            "\u001b[0;31mIndexError\u001b[0m: list index out of range"
          ]
        }
      ]
    },
    {
      "cell_type": "code",
      "source": [
        "#a\n",
        "itemlist = [1, -2.0,[1,2,3],\"Word\"]\n",
        "\n",
        "len(itemlist)"
      ],
      "metadata": {
        "colab": {
          "base_uri": "https://localhost:8080/"
        },
        "id": "cKeTklYgIwlR",
        "outputId": "b0ac1c46-c845-4e9d-ef22-120b5008b48c"
      },
      "execution_count": 21,
      "outputs": [
        {
          "output_type": "execute_result",
          "data": {
            "text/plain": [
              "4"
            ]
          },
          "metadata": {},
          "execution_count": 21
        }
      ]
    },
    {
      "cell_type": "code",
      "source": [
        "#b\n",
        "itemlist = [1, -2.0,[1,2,3],\"Word\"]\n",
        "\n",
        "print(itemlist[0])"
      ],
      "metadata": {
        "colab": {
          "base_uri": "https://localhost:8080/"
        },
        "id": "AtLIN67vKRmI",
        "outputId": "9914c306-e316-439c-ea89-08a1f1be3418"
      },
      "execution_count": 22,
      "outputs": [
        {
          "output_type": "stream",
          "name": "stdout",
          "text": [
            "1\n"
          ]
        }
      ]
    },
    {
      "cell_type": "code",
      "source": [
        "#c\n",
        "itemlist = [1, -2.0,[1,2,3],\"Word\"]\n",
        "\n",
        "print(itemlist[1])"
      ],
      "metadata": {
        "colab": {
          "base_uri": "https://localhost:8080/"
        },
        "id": "I3CgZmODKcG5",
        "outputId": "b66cbd91-f55c-4f38-c82c-559f93303f9b"
      },
      "execution_count": 23,
      "outputs": [
        {
          "output_type": "stream",
          "name": "stdout",
          "text": [
            "-2.0\n"
          ]
        }
      ]
    },
    {
      "cell_type": "code",
      "source": [
        "#d\n",
        "itemlist = [1, -2.0,[1,2,3],\"Word\"]\n",
        "\n",
        "print(itemlist[2])"
      ],
      "metadata": {
        "colab": {
          "base_uri": "https://localhost:8080/"
        },
        "id": "7uRuz0TdKhBJ",
        "outputId": "587dfd54-1890-452a-e953-171c415b7cac"
      },
      "execution_count": 24,
      "outputs": [
        {
          "output_type": "stream",
          "name": "stdout",
          "text": [
            "[1, 2, 3]\n"
          ]
        }
      ]
    },
    {
      "cell_type": "code",
      "source": [
        "#e\n",
        "itemlist = [1, -2.0,[1,2,3],\"Word\"]\n",
        "\n",
        "print(itemlist[3])"
      ],
      "metadata": {
        "colab": {
          "base_uri": "https://localhost:8080/"
        },
        "id": "1pVi3YPRKhLh",
        "outputId": "0d69c2a8-c7d6-4b69-ffe5-5341e78f6758"
      },
      "execution_count": 25,
      "outputs": [
        {
          "output_type": "stream",
          "name": "stdout",
          "text": [
            "Word\n"
          ]
        }
      ]
    },
    {
      "cell_type": "code",
      "source": [
        "#f\n",
        "itemlist = [1, -2.0,[1,2,3],\"Word\"]\n",
        "\n",
        "len(itemlist[2])"
      ],
      "metadata": {
        "colab": {
          "base_uri": "https://localhost:8080/"
        },
        "id": "SFuyt21SKhOw",
        "outputId": "6720a82a-c13c-49ff-9ebd-7e42b42b7cd7"
      },
      "execution_count": 26,
      "outputs": [
        {
          "output_type": "execute_result",
          "data": {
            "text/plain": [
              "3"
            ]
          },
          "metadata": {},
          "execution_count": 26
        }
      ]
    },
    {
      "cell_type": "code",
      "source": [
        "#g\n",
        "itemlist = [1, -2.0,[1,2,3],\"Word\"]\n",
        "\n",
        "print(itemlist[2][0])"
      ],
      "metadata": {
        "colab": {
          "base_uri": "https://localhost:8080/"
        },
        "id": "dIhVNGEOKhRY",
        "outputId": "56fe8d04-d740-478e-9586-1bb1d55e6459"
      },
      "execution_count": 27,
      "outputs": [
        {
          "output_type": "stream",
          "name": "stdout",
          "text": [
            "1\n"
          ]
        }
      ]
    },
    {
      "cell_type": "code",
      "source": [
        "#h\n",
        "itemlist = [1, -2.0,[1,2,3],\"Word\"]\n",
        "\n",
        "print(itemlist[2][1])"
      ],
      "metadata": {
        "colab": {
          "base_uri": "https://localhost:8080/"
        },
        "id": "X9tuKcgxKhUB",
        "outputId": "1ca7557f-aa34-4c55-f09f-c0e2e6add625"
      },
      "execution_count": 28,
      "outputs": [
        {
          "output_type": "stream",
          "name": "stdout",
          "text": [
            "2\n"
          ]
        }
      ]
    },
    {
      "cell_type": "code",
      "source": [
        "#i\n",
        "itemlist = [1, -2.0,[1,2,3],\"Word\"]\n",
        "\n",
        "print(itemlist[2][2])"
      ],
      "metadata": {
        "colab": {
          "base_uri": "https://localhost:8080/"
        },
        "id": "ysdeYdgPKhWg",
        "outputId": "c84f745f-35d0-43ad-8f4e-0555290212a6"
      },
      "execution_count": 29,
      "outputs": [
        {
          "output_type": "stream",
          "name": "stdout",
          "text": [
            "3\n"
          ]
        }
      ]
    },
    {
      "cell_type": "code",
      "source": [
        "#j\n",
        "itemlist = [1, -2.0,[1,2,3],\"Word\"]\n",
        "\n",
        "print(itemlist[-1])"
      ],
      "metadata": {
        "colab": {
          "base_uri": "https://localhost:8080/"
        },
        "id": "RVBIwRYoKhY4",
        "outputId": "707178f6-6f94-4590-a889-bf7166819981"
      },
      "execution_count": 30,
      "outputs": [
        {
          "output_type": "stream",
          "name": "stdout",
          "text": [
            "Word\n"
          ]
        }
      ]
    },
    {
      "cell_type": "code",
      "source": [
        "#k\n",
        "itemlist = [1, -2.0,[1,2,3],\"Word\"]\n",
        "\n",
        "print(itemlist[-2])"
      ],
      "metadata": {
        "colab": {
          "base_uri": "https://localhost:8080/"
        },
        "id": "_vTsrnPOKhba",
        "outputId": "d5dc5f6d-245b-4bd6-9afd-8196e10c4337"
      },
      "execution_count": 31,
      "outputs": [
        {
          "output_type": "stream",
          "name": "stdout",
          "text": [
            "[1, 2, 3]\n"
          ]
        }
      ]
    },
    {
      "cell_type": "code",
      "source": [
        "#l\n",
        "itemlist = [1, -2.0,[1,2,3],\"Word\"]\n",
        "\n",
        "print(itemlist[-3])"
      ],
      "metadata": {
        "colab": {
          "base_uri": "https://localhost:8080/"
        },
        "id": "q5AQAjIoKhd5",
        "outputId": "6c3c946a-714d-41c4-b786-a00e4d2f1be0"
      },
      "execution_count": 32,
      "outputs": [
        {
          "output_type": "stream",
          "name": "stdout",
          "text": [
            "-2.0\n"
          ]
        }
      ]
    },
    {
      "cell_type": "code",
      "source": [
        "#m\n",
        "itemlist = [1, -2.0,[1,2,3],\"Word\"]\n",
        "\n",
        "print(itemlist[-4])"
      ],
      "metadata": {
        "colab": {
          "base_uri": "https://localhost:8080/"
        },
        "id": "sZOfc_uKKhgh",
        "outputId": "e2c80234-b616-4880-d6e4-e1c7b41d9a89"
      },
      "execution_count": 33,
      "outputs": [
        {
          "output_type": "stream",
          "name": "stdout",
          "text": [
            "1\n"
          ]
        }
      ]
    },
    {
      "cell_type": "code",
      "source": [
        "#n\n",
        "itemlist = [1, -2.0,[1,2,3],\"Word\"]\n",
        "\n",
        "len(itemlist[-2])"
      ],
      "metadata": {
        "colab": {
          "base_uri": "https://localhost:8080/"
        },
        "id": "oa7tz3y8Khi6",
        "outputId": "3f5c55d2-2a41-40fc-b8bf-6861deab952a"
      },
      "execution_count": 34,
      "outputs": [
        {
          "output_type": "execute_result",
          "data": {
            "text/plain": [
              "3"
            ]
          },
          "metadata": {},
          "execution_count": 34
        }
      ]
    },
    {
      "cell_type": "code",
      "source": [
        "#o\n",
        "itemlist = [1, -2.0,[1,2,3],\"Word\"]\n",
        "\n",
        "print(itemlist[-2][0])"
      ],
      "metadata": {
        "colab": {
          "base_uri": "https://localhost:8080/"
        },
        "id": "zQcwPckhKhlp",
        "outputId": "27c89bad-24e4-4822-c940-fabb23fa49f8"
      },
      "execution_count": 35,
      "outputs": [
        {
          "output_type": "stream",
          "name": "stdout",
          "text": [
            "1\n"
          ]
        }
      ]
    },
    {
      "cell_type": "code",
      "source": [
        "#p\n",
        "itemlist = [1, -2.0,[1,2,3],\"Word\"]\n",
        "\n",
        "print(itemlist[-2][1])"
      ],
      "metadata": {
        "colab": {
          "base_uri": "https://localhost:8080/"
        },
        "id": "CQMs1K8jKm0x",
        "outputId": "f6899cde-3f9a-4c34-9864-5a2fc0327aea"
      },
      "execution_count": 36,
      "outputs": [
        {
          "output_type": "stream",
          "name": "stdout",
          "text": [
            "2\n"
          ]
        }
      ]
    },
    {
      "cell_type": "code",
      "source": [
        "#q\n",
        "itemlist = [1, -2.0,[1,2,3],\"Word\"]\n",
        "\n",
        "print(itemlist[-2][2])"
      ],
      "metadata": {
        "colab": {
          "base_uri": "https://localhost:8080/"
        },
        "id": "HLyUtuXYKm3I",
        "outputId": "2eed2bec-0aa1-43af-d42a-f5e2d4ea7fc7"
      },
      "execution_count": 37,
      "outputs": [
        {
          "output_type": "stream",
          "name": "stdout",
          "text": [
            "3\n"
          ]
        }
      ]
    },
    {
      "cell_type": "code",
      "source": [
        "#r\n",
        "itemlist = [1, -2.0,[1,2,3],\"Word\"]\n",
        "\n",
        "print(itemlist[-2][-3])"
      ],
      "metadata": {
        "colab": {
          "base_uri": "https://localhost:8080/"
        },
        "id": "zNtM53HLKm5x",
        "outputId": "f3e359ad-a46a-4b90-cea1-4a4b6c716183"
      },
      "execution_count": 38,
      "outputs": [
        {
          "output_type": "stream",
          "name": "stdout",
          "text": [
            "1\n"
          ]
        }
      ]
    },
    {
      "cell_type": "code",
      "source": [
        "#s\n",
        "itemlist = [1, -2.0,[1,2,3],\"Word\"]\n",
        "\n",
        "print(itemlist[-2][-2])"
      ],
      "metadata": {
        "colab": {
          "base_uri": "https://localhost:8080/"
        },
        "id": "TU0avDeIKm8S",
        "outputId": "cc1fcdc8-225c-47bc-c456-5bc145c67da3"
      },
      "execution_count": 39,
      "outputs": [
        {
          "output_type": "stream",
          "name": "stdout",
          "text": [
            "2\n"
          ]
        }
      ]
    },
    {
      "cell_type": "code",
      "source": [
        "#t\n",
        "itemlist = [1, -2.0,[1,2,3],\"Word\"]\n",
        "\n",
        "print(itemlist[-2][-1])"
      ],
      "metadata": {
        "colab": {
          "base_uri": "https://localhost:8080/"
        },
        "id": "ApcTeZH-Km-4",
        "outputId": "5926d0ec-7a72-4dd6-8ddc-770633e45f4b"
      },
      "execution_count": 40,
      "outputs": [
        {
          "output_type": "stream",
          "name": "stdout",
          "text": [
            "3\n"
          ]
        }
      ]
    },
    {
      "cell_type": "markdown",
      "source": [
        "# Index Slicing"
      ],
      "metadata": {
        "id": "cH8dzDdeMLwB"
      }
    },
    {
      "cell_type": "code",
      "source": [
        "#index slicing\n",
        "\n",
        "numberlist = [5, 4, 2, 1, 3]\n",
        "itemlist = [1, -2.0,[1,2,3],\"Word\"]\n",
        "longlist = numberlist + itemlist\n",
        "\n",
        "len(longlist)"
      ],
      "metadata": {
        "colab": {
          "base_uri": "https://localhost:8080/"
        },
        "id": "j4GxGVMvMQtI",
        "outputId": "da73a8b8-db5e-4d48-f354-b752981e8562"
      },
      "execution_count": 44,
      "outputs": [
        {
          "output_type": "execute_result",
          "data": {
            "text/plain": [
              "9"
            ]
          },
          "metadata": {},
          "execution_count": 44
        }
      ]
    },
    {
      "cell_type": "code",
      "source": [
        "#index slicing\n",
        "\n",
        "numberlist = [5, 4, 2, 1, 3]\n",
        "itemlist = [1, -2.0,[1,2,3],\"Word\"]\n",
        "longlist = numberlist + itemlist\n",
        "\n",
        "print(longlist[:])"
      ],
      "metadata": {
        "colab": {
          "base_uri": "https://localhost:8080/"
        },
        "id": "xngANEPPM_z5",
        "outputId": "18580041-178d-4b1c-fc9f-08ced4da4925"
      },
      "execution_count": 43,
      "outputs": [
        {
          "output_type": "stream",
          "name": "stdout",
          "text": [
            "[5, 4, 2, 1, 3, 1, -2.0, [1, 2, 3], 'Word']\n"
          ]
        }
      ]
    },
    {
      "cell_type": "code",
      "source": [
        "#index slicing\n",
        "\n",
        "numberlist = [5, 4, 2, 1, 3]\n",
        "itemlist = [1, -2.0,[1,2,3],\"Word\"]\n",
        "longlist = numberlist + itemlist\n",
        "\n",
        "print(longlist[:9])"
      ],
      "metadata": {
        "colab": {
          "base_uri": "https://localhost:8080/"
        },
        "id": "9p3mhjqPNLnJ",
        "outputId": "8cdafc7c-7c7b-4cad-cfde-e17c7bdc8a10"
      },
      "execution_count": 45,
      "outputs": [
        {
          "output_type": "stream",
          "name": "stdout",
          "text": [
            "[5, 4, 2, 1, 3, 1, -2.0, [1, 2, 3], 'Word']\n"
          ]
        }
      ]
    },
    {
      "cell_type": "code",
      "source": [
        "#index slicing\n",
        "\n",
        "numberlist = [5, 4, 2, 1, 3]\n",
        "itemlist = [1, -2.0,[1,2,3],\"Word\"]\n",
        "longlist = numberlist + itemlist\n",
        "\n",
        "print(longlist[0:])"
      ],
      "metadata": {
        "colab": {
          "base_uri": "https://localhost:8080/"
        },
        "id": "gPpK9-ltNLtD",
        "outputId": "64cb5653-26ef-4ae0-8a29-e80c9e6afbff"
      },
      "execution_count": 46,
      "outputs": [
        {
          "output_type": "stream",
          "name": "stdout",
          "text": [
            "[5, 4, 2, 1, 3, 1, -2.0, [1, 2, 3], 'Word']\n"
          ]
        }
      ]
    },
    {
      "cell_type": "code",
      "source": [
        "#index slicing\n",
        "\n",
        "numberlist = [5, 4, 2, 1, 3]\n",
        "itemlist = [1, -2.0,[1,2,3],\"Word\"]\n",
        "longlist = numberlist + itemlist\n",
        "\n",
        "print(longlist[1:])"
      ],
      "metadata": {
        "colab": {
          "base_uri": "https://localhost:8080/"
        },
        "id": "TsNmHEh5NLwc",
        "outputId": "9ef9058e-0c2d-4c9f-c30d-df786fb6bf47"
      },
      "execution_count": 47,
      "outputs": [
        {
          "output_type": "stream",
          "name": "stdout",
          "text": [
            "[4, 2, 1, 3, 1, -2.0, [1, 2, 3], 'Word']\n"
          ]
        }
      ]
    },
    {
      "cell_type": "code",
      "source": [
        "#index slicing\n",
        "\n",
        "numberlist = [5, 4, 2, 1, 3]\n",
        "itemlist = [1, -2.0,[1,2,3],\"Word\"]\n",
        "longlist = numberlist + itemlist\n",
        "\n",
        "print(longlist[2:])"
      ],
      "metadata": {
        "colab": {
          "base_uri": "https://localhost:8080/"
        },
        "id": "PnpKUQcHNLzD",
        "outputId": "8ffc7fc6-3cb6-42d0-d003-b0fde2c56a1d"
      },
      "execution_count": 48,
      "outputs": [
        {
          "output_type": "stream",
          "name": "stdout",
          "text": [
            "[2, 1, 3, 1, -2.0, [1, 2, 3], 'Word']\n"
          ]
        }
      ]
    },
    {
      "cell_type": "code",
      "source": [
        "#index slicing with range\n",
        "\n",
        "numberlist = [5, 4, 2, 1, 3]\n",
        "itemlist = [1, -2.0,[1,2,3],\"Word\"]\n",
        "longlist = numberlist + itemlist\n",
        "\n",
        "print(longlist[2:5])"
      ],
      "metadata": {
        "colab": {
          "base_uri": "https://localhost:8080/"
        },
        "id": "XqxqseznNYqp",
        "outputId": "aa887b88-5fbc-4438-8da6-3dd004e0a299"
      },
      "execution_count": 49,
      "outputs": [
        {
          "output_type": "stream",
          "name": "stdout",
          "text": [
            "[2, 1, 3]\n"
          ]
        }
      ]
    },
    {
      "cell_type": "code",
      "source": [
        "#index slicing with range\n",
        "\n",
        "numberlist = [5, 4, 2, 1, 3]\n",
        "itemlist = [1, -2.0,[1,2,3],\"Word\"]\n",
        "longlist = numberlist + itemlist\n",
        "\n",
        "print(longlist[5:2])"
      ],
      "metadata": {
        "colab": {
          "base_uri": "https://localhost:8080/"
        },
        "id": "HQtNi3ApNkgS",
        "outputId": "4e532d81-2cc5-4860-e0d8-3c6f5a5db25d"
      },
      "execution_count": 50,
      "outputs": [
        {
          "output_type": "stream",
          "name": "stdout",
          "text": [
            "[]\n"
          ]
        }
      ]
    },
    {
      "cell_type": "code",
      "source": [
        "#index slicing with range\n",
        "\n",
        "numberlist = [5, 4, 2, 1, 3]\n",
        "itemlist = [1, -2.0,[1,2,3],\"Word\"]\n",
        "longlist = numberlist + itemlist\n",
        "\n",
        "print(longlist[8:])"
      ],
      "metadata": {
        "colab": {
          "base_uri": "https://localhost:8080/"
        },
        "id": "-JgRLNgPNkoB",
        "outputId": "6ceb925a-bb73-486d-b06d-7e969f11a6b5"
      },
      "execution_count": 51,
      "outputs": [
        {
          "output_type": "stream",
          "name": "stdout",
          "text": [
            "['Word']\n"
          ]
        }
      ]
    },
    {
      "cell_type": "code",
      "source": [
        "#index slicing with range\n",
        "\n",
        "numberlist = [5, 4, 2, 1, 3]\n",
        "itemlist = [1, -2.0,[1,2,3],\"Word\"]\n",
        "longlist = numberlist + itemlist\n",
        "\n",
        "print(longlist[9:])"
      ],
      "metadata": {
        "colab": {
          "base_uri": "https://localhost:8080/"
        },
        "id": "2_xp4vRSNkub",
        "outputId": "258b9093-5f75-4a82-dcc1-711cf74730a2"
      },
      "execution_count": 52,
      "outputs": [
        {
          "output_type": "stream",
          "name": "stdout",
          "text": [
            "[]\n"
          ]
        }
      ]
    },
    {
      "cell_type": "code",
      "source": [
        "#index slicing using negative indices\n",
        "\n",
        "numberlist = [5, 4, 2, 1, 3]\n",
        "itemlist = [1, -2.0,[1,2,3],\"Word\"]\n",
        "longlist = numberlist + itemlist\n",
        "\n",
        "print(longlist[-9:])"
      ],
      "metadata": {
        "colab": {
          "base_uri": "https://localhost:8080/"
        },
        "id": "NgaCdOHjNySK",
        "outputId": "e61da3ca-4d6d-4b74-c2af-0536fd7f19a5"
      },
      "execution_count": 53,
      "outputs": [
        {
          "output_type": "stream",
          "name": "stdout",
          "text": [
            "[5, 4, 2, 1, 3, 1, -2.0, [1, 2, 3], 'Word']\n"
          ]
        }
      ]
    },
    {
      "cell_type": "code",
      "source": [
        "#index slicing using negative indices\n",
        "\n",
        "numberlist = [5, 4, 2, 1, 3]\n",
        "itemlist = [1, -2.0,[1,2,3],\"Word\"]\n",
        "longlist = numberlist + itemlist\n",
        "\n",
        "print(longlist[-8:])"
      ],
      "metadata": {
        "colab": {
          "base_uri": "https://localhost:8080/"
        },
        "id": "CvlCfTIAN7Vq",
        "outputId": "ec763529-0961-4117-86d1-217cd730ad37"
      },
      "execution_count": 54,
      "outputs": [
        {
          "output_type": "stream",
          "name": "stdout",
          "text": [
            "[4, 2, 1, 3, 1, -2.0, [1, 2, 3], 'Word']\n"
          ]
        }
      ]
    },
    {
      "cell_type": "code",
      "source": [
        "#index slicing using negative indices\n",
        "\n",
        "numberlist = [5, 4, 2, 1, 3]\n",
        "itemlist = [1, -2.0,[1,2,3],\"Word\"]\n",
        "longlist = numberlist + itemlist\n",
        "\n",
        "print(longlist[-8:-7])"
      ],
      "metadata": {
        "colab": {
          "base_uri": "https://localhost:8080/"
        },
        "id": "BUSj31ETN7ea",
        "outputId": "9dcc3f5e-68fd-4ead-e05a-c7035490f923"
      },
      "execution_count": 55,
      "outputs": [
        {
          "output_type": "stream",
          "name": "stdout",
          "text": [
            "[4]\n"
          ]
        }
      ]
    },
    {
      "cell_type": "code",
      "source": [
        "#index slicing using negative indices\n",
        "\n",
        "numberlist = [5, 4, 2, 1, 3]\n",
        "itemlist = [1, -2.0,[1,2,3],\"Word\"]\n",
        "longlist = numberlist + itemlist\n",
        "\n",
        "print(longlist[-1:])"
      ],
      "metadata": {
        "colab": {
          "base_uri": "https://localhost:8080/"
        },
        "id": "84lJzg7rN7kS",
        "outputId": "37220fdf-f251-46ff-ac5f-358bdd2e69fb"
      },
      "execution_count": 56,
      "outputs": [
        {
          "output_type": "stream",
          "name": "stdout",
          "text": [
            "['Word']\n"
          ]
        }
      ]
    },
    {
      "cell_type": "code",
      "source": [
        "#other properties of index slicing\n",
        "\n",
        "numberlist = [5, 4, 2, 1, 3]\n",
        "itemlist = [1, -2.0,[1,2,3],\"Word\"]\n",
        "longlist = numberlist + itemlist\n",
        "\n",
        "print(longlist[10:20])"
      ],
      "metadata": {
        "colab": {
          "base_uri": "https://localhost:8080/"
        },
        "id": "TJCpJ3A3OFX7",
        "outputId": "d789250d-589d-47dd-aec1-2259faa4f8f5"
      },
      "execution_count": 57,
      "outputs": [
        {
          "output_type": "stream",
          "name": "stdout",
          "text": [
            "[]\n"
          ]
        }
      ]
    },
    {
      "cell_type": "code",
      "source": [
        "#other properties of index slicing\n",
        "\n",
        "numberlist = [5, 4, 2, 1, 3]\n",
        "itemlist = [1, -2.0,[1,2,3],\"Word\"]\n",
        "longlist = numberlist + itemlist\n",
        "\n",
        "print(longlist[-7:5])"
      ],
      "metadata": {
        "colab": {
          "base_uri": "https://localhost:8080/"
        },
        "id": "gRKo8oD3ON76",
        "outputId": "31a76681-3ce8-478c-f3cf-0487d38b8969"
      },
      "execution_count": 58,
      "outputs": [
        {
          "output_type": "stream",
          "name": "stdout",
          "text": [
            "[2, 1, 3]\n"
          ]
        }
      ]
    },
    {
      "cell_type": "code",
      "source": [
        "#index slicing with step parameter\n",
        "\n",
        "numberlist = [5, 4, 2, 1, 3]\n",
        "itemlist = [1, -2.0,[1,2,3],\"Word\"]\n",
        "longlist = numberlist + itemlist\n",
        "\n",
        "print(longlist[::1])"
      ],
      "metadata": {
        "colab": {
          "base_uri": "https://localhost:8080/"
        },
        "id": "U0heYJHXOU06",
        "outputId": "d150c855-9d2a-445d-c7ab-babe659bfa69"
      },
      "execution_count": 59,
      "outputs": [
        {
          "output_type": "stream",
          "name": "stdout",
          "text": [
            "[5, 4, 2, 1, 3, 1, -2.0, [1, 2, 3], 'Word']\n"
          ]
        }
      ]
    },
    {
      "cell_type": "code",
      "source": [
        "#index slicing with step parameter\n",
        "\n",
        "numberlist = [5, 4, 2, 1, 3]\n",
        "itemlist = [1, -2.0,[1,2,3],\"Word\"]\n",
        "longlist = numberlist + itemlist\n",
        "\n",
        "print(longlist[::2])"
      ],
      "metadata": {
        "colab": {
          "base_uri": "https://localhost:8080/"
        },
        "id": "19ypHB0vOhZL",
        "outputId": "c2f026ac-a5bf-4e30-b0a8-69b6cf64e27f"
      },
      "execution_count": 60,
      "outputs": [
        {
          "output_type": "stream",
          "name": "stdout",
          "text": [
            "[5, 2, 3, -2.0, 'Word']\n"
          ]
        }
      ]
    },
    {
      "cell_type": "code",
      "source": [
        "#index slicing with step parameter\n",
        "\n",
        "numberlist = [5, 4, 2, 1, 3]\n",
        "itemlist = [1, -2.0,[1,2,3],\"Word\"]\n",
        "longlist = numberlist + itemlist\n",
        "\n",
        "print(longlist[1:8:2])"
      ],
      "metadata": {
        "colab": {
          "base_uri": "https://localhost:8080/"
        },
        "id": "mGO3Hm18Ohvz",
        "outputId": "c7cf5e1f-5476-4e3f-dd9b-c1117ac16cde"
      },
      "execution_count": 61,
      "outputs": [
        {
          "output_type": "stream",
          "name": "stdout",
          "text": [
            "[4, 1, 1, [1, 2, 3]]\n"
          ]
        }
      ]
    },
    {
      "cell_type": "code",
      "source": [
        "#index slicing with step parameter\n",
        "\n",
        "numberlist = [5, 4, 2, 1, 3]\n",
        "itemlist = [1, -2.0,[1,2,3],\"Word\"]\n",
        "longlist = numberlist + itemlist\n",
        "\n",
        "print(longlist[9:1:-1])"
      ],
      "metadata": {
        "colab": {
          "base_uri": "https://localhost:8080/"
        },
        "id": "s2Pxie-VOit6",
        "outputId": "1e6830b5-3040-41ec-db17-0646434dc770"
      },
      "execution_count": 62,
      "outputs": [
        {
          "output_type": "stream",
          "name": "stdout",
          "text": [
            "['Word', [1, 2, 3], -2.0, 1, 3, 1, 2]\n"
          ]
        }
      ]
    },
    {
      "cell_type": "code",
      "source": [
        "#index slicing with step parameter\n",
        "\n",
        "numberlist = [5, 4, 2, 1, 3]\n",
        "itemlist = [1, -2.0,[1,2,3],\"Word\"]\n",
        "longlist = numberlist + itemlist\n",
        "\n",
        "print(longlist[-1::1])"
      ],
      "metadata": {
        "colab": {
          "base_uri": "https://localhost:8080/"
        },
        "id": "d0-wtuBlOi3i",
        "outputId": "db9fe343-5db0-43ce-cfcf-c08b76a892f1"
      },
      "execution_count": 63,
      "outputs": [
        {
          "output_type": "stream",
          "name": "stdout",
          "text": [
            "['Word']\n"
          ]
        }
      ]
    },
    {
      "cell_type": "code",
      "source": [
        "#index slicing with step parameter\n",
        "\n",
        "numberlist = [5, 4, 2, 1, 3]\n",
        "itemlist = [1, -2.0,[1,2,3],\"Word\"]\n",
        "longlist = numberlist + itemlist\n",
        "\n",
        "print(longlist[-1::-1])"
      ],
      "metadata": {
        "colab": {
          "base_uri": "https://localhost:8080/"
        },
        "id": "s21aHfXQOi_h",
        "outputId": "2117032e-1fe8-4d49-f9e4-2d3955efbf63"
      },
      "execution_count": 64,
      "outputs": [
        {
          "output_type": "stream",
          "name": "stdout",
          "text": [
            "['Word', [1, 2, 3], -2.0, 1, 3, 1, 2, 4, 5]\n"
          ]
        }
      ]
    },
    {
      "cell_type": "markdown",
      "source": [
        "List Methods and the Mutable Property of Lists"
      ],
      "metadata": {
        "id": "-OIhj8g-PA2q"
      }
    },
    {
      "cell_type": "code",
      "source": [
        "#Create a new variable numberlist2 and assign it to be equal to numberlist.\n",
        "\n",
        "numberlist2 = numberlist\n",
        "\n",
        "print(numberlist)"
      ],
      "metadata": {
        "colab": {
          "base_uri": "https://localhost:8080/"
        },
        "id": "Im4iD5y8PGXK",
        "outputId": "1ef29103-2700-4cd9-f1b8-9d620a2cc554"
      },
      "execution_count": 65,
      "outputs": [
        {
          "output_type": "stream",
          "name": "stdout",
          "text": [
            "[5, 4, 2, 1, 3]\n"
          ]
        }
      ]
    },
    {
      "cell_type": "code",
      "source": [
        "print(numberlist2)"
      ],
      "metadata": {
        "colab": {
          "base_uri": "https://localhost:8080/"
        },
        "id": "LucmRBVKPsRJ",
        "outputId": "8c2d04b8-9e94-4276-fe02-c28754711a48"
      },
      "execution_count": 66,
      "outputs": [
        {
          "output_type": "stream",
          "name": "stdout",
          "text": [
            "[5, 4, 2, 1, 3]\n"
          ]
        }
      ]
    },
    {
      "cell_type": "code",
      "source": [
        "numberlist[0] = 6"
      ],
      "metadata": {
        "id": "WkstCc2oPv0y"
      },
      "execution_count": 67,
      "outputs": []
    },
    {
      "cell_type": "code",
      "source": [
        "print(numberlist)"
      ],
      "metadata": {
        "colab": {
          "base_uri": "https://localhost:8080/"
        },
        "id": "os4rTWJjP2MJ",
        "outputId": "57938b36-4fff-46d1-dc8c-c5a5fbc2579f"
      },
      "execution_count": 68,
      "outputs": [
        {
          "output_type": "stream",
          "name": "stdout",
          "text": [
            "[6, 4, 2, 1, 3]\n"
          ]
        }
      ]
    },
    {
      "cell_type": "code",
      "source": [
        "print(numberlist2)"
      ],
      "metadata": {
        "colab": {
          "base_uri": "https://localhost:8080/"
        },
        "id": "mBph-thGP6vL",
        "outputId": "b4df6504-936d-45ec-ad3d-1388dd83d931"
      },
      "execution_count": 69,
      "outputs": [
        {
          "output_type": "stream",
          "name": "stdout",
          "text": [
            "[6, 4, 2, 1, 3]\n"
          ]
        }
      ]
    },
    {
      "cell_type": "code",
      "source": [
        "numberlist2 = numberlist.copy()"
      ],
      "metadata": {
        "id": "mU3J7XOmP5oH"
      },
      "execution_count": 70,
      "outputs": []
    },
    {
      "cell_type": "code",
      "source": [
        "print(numberlist2)"
      ],
      "metadata": {
        "colab": {
          "base_uri": "https://localhost:8080/"
        },
        "id": "6gK_o5WzQINi",
        "outputId": "0b8e464d-1284-4b0f-bb68-1af2cbb5ff23"
      },
      "execution_count": 71,
      "outputs": [
        {
          "output_type": "stream",
          "name": "stdout",
          "text": [
            "[6, 4, 2, 1, 3]\n"
          ]
        }
      ]
    },
    {
      "cell_type": "code",
      "source": [
        "numberlist[0] = 5"
      ],
      "metadata": {
        "id": "K-449fbjQNHs"
      },
      "execution_count": 72,
      "outputs": []
    },
    {
      "cell_type": "code",
      "source": [
        "print(numberlist)"
      ],
      "metadata": {
        "colab": {
          "base_uri": "https://localhost:8080/"
        },
        "id": "Iyg98GmkQQ2S",
        "outputId": "4eb9a59f-fb69-431a-b4c2-e3b599dcddcf"
      },
      "execution_count": 73,
      "outputs": [
        {
          "output_type": "stream",
          "name": "stdout",
          "text": [
            "[5, 4, 2, 1, 3]\n"
          ]
        }
      ]
    },
    {
      "cell_type": "code",
      "source": [
        "print(numberlist2)"
      ],
      "metadata": {
        "colab": {
          "base_uri": "https://localhost:8080/"
        },
        "id": "TYv76GSvQUoT",
        "outputId": "22894180-2351-47a3-b718-a9d337232058"
      },
      "execution_count": 74,
      "outputs": [
        {
          "output_type": "stream",
          "name": "stdout",
          "text": [
            "[6, 4, 2, 1, 3]\n"
          ]
        }
      ]
    },
    {
      "cell_type": "markdown",
      "source": [
        "Exploring some List Functions and Methods"
      ],
      "metadata": {
        "id": "BT3YKsL1QZSj"
      }
    },
    {
      "cell_type": "code",
      "source": [
        "print(numberlist)"
      ],
      "metadata": {
        "colab": {
          "base_uri": "https://localhost:8080/"
        },
        "id": "sEKpKw99QYti",
        "outputId": "5eaf3542-bed1-4193-8631-4a2fc9d8ec3d"
      },
      "execution_count": 75,
      "outputs": [
        {
          "output_type": "stream",
          "name": "stdout",
          "text": [
            "[5, 4, 2, 1, 3]\n"
          ]
        }
      ]
    },
    {
      "cell_type": "code",
      "source": [
        "numberlist.append(6)"
      ],
      "metadata": {
        "id": "tJt4S6aRQkZb"
      },
      "execution_count": 76,
      "outputs": []
    },
    {
      "cell_type": "code",
      "source": [
        "print(numberlist)"
      ],
      "metadata": {
        "colab": {
          "base_uri": "https://localhost:8080/"
        },
        "id": "Vw1rdVw4Qn6x",
        "outputId": "598c6bb8-c094-4b9e-921b-819e3f0905b9"
      },
      "execution_count": 77,
      "outputs": [
        {
          "output_type": "stream",
          "name": "stdout",
          "text": [
            "[5, 4, 2, 1, 3, 6]\n"
          ]
        }
      ]
    },
    {
      "cell_type": "code",
      "source": [
        "numberlist.pop()"
      ],
      "metadata": {
        "colab": {
          "base_uri": "https://localhost:8080/"
        },
        "id": "guRZtbQsQr1U",
        "outputId": "44c70b64-eed4-489a-b45e-12a4a759ea4a"
      },
      "execution_count": 78,
      "outputs": [
        {
          "output_type": "execute_result",
          "data": {
            "text/plain": [
              "6"
            ]
          },
          "metadata": {},
          "execution_count": 78
        }
      ]
    },
    {
      "cell_type": "code",
      "source": [
        "print(numberlist)"
      ],
      "metadata": {
        "colab": {
          "base_uri": "https://localhost:8080/"
        },
        "id": "PvGdLt3xQvXS",
        "outputId": "acc6ae00-7871-4ff2-f8b6-9ffb74014cab"
      },
      "execution_count": 79,
      "outputs": [
        {
          "output_type": "stream",
          "name": "stdout",
          "text": [
            "[5, 4, 2, 1, 3]\n"
          ]
        }
      ]
    },
    {
      "cell_type": "code",
      "source": [
        "numberlist.sort()"
      ],
      "metadata": {
        "id": "FC8n4mJIQz07"
      },
      "execution_count": 80,
      "outputs": []
    },
    {
      "cell_type": "code",
      "source": [
        "print(numberlist)"
      ],
      "metadata": {
        "colab": {
          "base_uri": "https://localhost:8080/"
        },
        "id": "_Phlu4G4Q4DT",
        "outputId": "d40cb801-9caa-43cd-90aa-42ba7ba8d426"
      },
      "execution_count": 81,
      "outputs": [
        {
          "output_type": "stream",
          "name": "stdout",
          "text": [
            "[1, 2, 3, 4, 5]\n"
          ]
        }
      ]
    },
    {
      "cell_type": "code",
      "source": [
        "itemlist.sort()"
      ],
      "metadata": {
        "colab": {
          "base_uri": "https://localhost:8080/",
          "height": 146
        },
        "id": "U-g67UrLQ84R",
        "outputId": "0c311b81-140d-4a1b-bcea-460f1088299a"
      },
      "execution_count": 85,
      "outputs": [
        {
          "output_type": "error",
          "ename": "TypeError",
          "evalue": "'<' not supported between instances of 'list' and 'float'",
          "traceback": [
            "\u001b[0;31m---------------------------------------------------------------------------\u001b[0m",
            "\u001b[0;31mTypeError\u001b[0m                                 Traceback (most recent call last)",
            "\u001b[0;32m<ipython-input-85-c887e071063f>\u001b[0m in \u001b[0;36m<cell line: 0>\u001b[0;34m()\u001b[0m\n\u001b[0;32m----> 1\u001b[0;31m \u001b[0mitemlist\u001b[0m\u001b[0;34m.\u001b[0m\u001b[0msort\u001b[0m\u001b[0;34m(\u001b[0m\u001b[0;34m)\u001b[0m\u001b[0;34m\u001b[0m\u001b[0;34m\u001b[0m\u001b[0m\n\u001b[0m",
            "\u001b[0;31mTypeError\u001b[0m: '<' not supported between instances of 'list' and 'float'"
          ]
        }
      ]
    },
    {
      "cell_type": "code",
      "source": [
        "print(min(numberlist))"
      ],
      "metadata": {
        "colab": {
          "base_uri": "https://localhost:8080/"
        },
        "id": "2BbGmkNwSDMc",
        "outputId": "f10d5c64-aea0-4bd6-d677-a37772f45a83"
      },
      "execution_count": 86,
      "outputs": [
        {
          "output_type": "stream",
          "name": "stdout",
          "text": [
            "1\n"
          ]
        }
      ]
    },
    {
      "cell_type": "code",
      "source": [
        "print(max(numberlist))"
      ],
      "metadata": {
        "colab": {
          "base_uri": "https://localhost:8080/"
        },
        "id": "gR6YnC-iSI7j",
        "outputId": "606fc137-9c81-474a-8f99-c20a0599db6a"
      },
      "execution_count": 87,
      "outputs": [
        {
          "output_type": "stream",
          "name": "stdout",
          "text": [
            "5\n"
          ]
        }
      ]
    },
    {
      "cell_type": "code",
      "source": [
        "print(longlist)"
      ],
      "metadata": {
        "colab": {
          "base_uri": "https://localhost:8080/"
        },
        "id": "qde_4_57SLnz",
        "outputId": "7f4a66d0-9fef-4c5f-f959-1cc425035517"
      },
      "execution_count": 88,
      "outputs": [
        {
          "output_type": "stream",
          "name": "stdout",
          "text": [
            "[5, 4, 2, 1, 3, 1, -2.0, [1, 2, 3], 'Word']\n"
          ]
        }
      ]
    },
    {
      "cell_type": "code",
      "source": [
        "print(longlist.count(1))"
      ],
      "metadata": {
        "colab": {
          "base_uri": "https://localhost:8080/"
        },
        "id": "wY2tzxV3SQH1",
        "outputId": "557eaa87-d384-4ae1-aadb-bb9b20b85cf9"
      },
      "execution_count": 89,
      "outputs": [
        {
          "output_type": "stream",
          "name": "stdout",
          "text": [
            "2\n"
          ]
        }
      ]
    },
    {
      "cell_type": "code",
      "source": [
        "print(longlist[7].count(1))"
      ],
      "metadata": {
        "colab": {
          "base_uri": "https://localhost:8080/"
        },
        "id": "jqzInP6OSUtI",
        "outputId": "8b2cb0ff-4f18-4b7c-9378-b42d0e0be8e6"
      },
      "execution_count": 90,
      "outputs": [
        {
          "output_type": "stream",
          "name": "stdout",
          "text": [
            "1\n"
          ]
        }
      ]
    },
    {
      "cell_type": "markdown",
      "source": [
        "The in Operator"
      ],
      "metadata": {
        "id": "RXEIfrDJSnPD"
      }
    },
    {
      "cell_type": "code",
      "source": [
        "print(3 in longlist)"
      ],
      "metadata": {
        "colab": {
          "base_uri": "https://localhost:8080/"
        },
        "id": "B2r4SHQeSmws",
        "outputId": "d04f2dc3-2189-4385-fd1c-6e9b06a552ca"
      },
      "execution_count": 91,
      "outputs": [
        {
          "output_type": "stream",
          "name": "stdout",
          "text": [
            "True\n"
          ]
        }
      ]
    },
    {
      "cell_type": "code",
      "source": [
        "print(15 in longlist)"
      ],
      "metadata": {
        "colab": {
          "base_uri": "https://localhost:8080/"
        },
        "id": "mHvrhhjrSwo7",
        "outputId": "40208973-a456-477e-fff0-b14a2d7076e3"
      },
      "execution_count": 92,
      "outputs": [
        {
          "output_type": "stream",
          "name": "stdout",
          "text": [
            "False\n"
          ]
        }
      ]
    },
    {
      "cell_type": "code",
      "source": [
        "num = int(input(\"Input a number: \"))\n",
        "if num in longlist:\n",
        "    print(\"The number is in longlist\")\n",
        "else:\n",
        "    print(\"The number is not in longlist\")"
      ],
      "metadata": {
        "colab": {
          "base_uri": "https://localhost:8080/"
        },
        "id": "OG7A08gpSzyx",
        "outputId": "f1fcf6c3-1573-43e6-f22e-f8d2b191435a"
      },
      "execution_count": 93,
      "outputs": [
        {
          "output_type": "stream",
          "name": "stdout",
          "text": [
            "Input a number: 2\n",
            "The number is in longlist\n"
          ]
        }
      ]
    },
    {
      "cell_type": "markdown",
      "source": [
        "Using a list in an iterative statement"
      ],
      "metadata": {
        "id": "iGwc1XwITK8c"
      }
    },
    {
      "cell_type": "code",
      "source": [
        "for item in longlist:\n",
        "    print(item)"
      ],
      "metadata": {
        "colab": {
          "base_uri": "https://localhost:8080/"
        },
        "id": "O13CK2ofTKg0",
        "outputId": "fc97c8f3-74c3-449a-b391-4b41de59bb22"
      },
      "execution_count": 96,
      "outputs": [
        {
          "output_type": "stream",
          "name": "stdout",
          "text": [
            "5\n",
            "4\n",
            "2\n",
            "1\n",
            "3\n",
            "1\n",
            "-2.0\n",
            "[1, 2, 3]\n",
            "Word\n"
          ]
        }
      ]
    },
    {
      "cell_type": "code",
      "source": [
        "i=0\n",
        "while i<len(longlist):\n",
        "    print(longlist[i])\n",
        "    i+=1"
      ],
      "metadata": {
        "colab": {
          "base_uri": "https://localhost:8080/"
        },
        "id": "93gDGE0WTa3c",
        "outputId": "5a641b13-7ca0-4190-8a48-0e1f9eccb7e8"
      },
      "execution_count": 97,
      "outputs": [
        {
          "output_type": "stream",
          "name": "stdout",
          "text": [
            "5\n",
            "4\n",
            "2\n",
            "1\n",
            "3\n",
            "1\n",
            "-2.0\n",
            "[1, 2, 3]\n",
            "Word\n"
          ]
        }
      ]
    },
    {
      "cell_type": "markdown",
      "source": [
        "# String"
      ],
      "metadata": {
        "id": "D6-FpwcITwYj"
      }
    },
    {
      "cell_type": "code",
      "source": [
        "#string\n",
        "\n",
        "message = \"Hello World\"\n",
        "print(message)"
      ],
      "metadata": {
        "colab": {
          "base_uri": "https://localhost:8080/"
        },
        "id": "DfR4h2q9TyP5",
        "outputId": "70882ecc-f1c7-4996-8078-a83f58e2c0f3"
      },
      "execution_count": 98,
      "outputs": [
        {
          "output_type": "stream",
          "name": "stdout",
          "text": [
            "Hello World\n"
          ]
        }
      ]
    },
    {
      "cell_type": "code",
      "source": [
        "len(message)"
      ],
      "metadata": {
        "colab": {
          "base_uri": "https://localhost:8080/"
        },
        "id": "pPvLgJu7UJk8",
        "outputId": "67209b58-f706-4129-f842-659f78cc51d1"
      },
      "execution_count": 188,
      "outputs": [
        {
          "output_type": "execute_result",
          "data": {
            "text/plain": [
              "5"
            ]
          },
          "metadata": {},
          "execution_count": 188
        }
      ]
    },
    {
      "cell_type": "code",
      "source": [
        "print(message[0])"
      ],
      "metadata": {
        "colab": {
          "base_uri": "https://localhost:8080/"
        },
        "id": "y6mt72I8UWEt",
        "outputId": "18adcac8-09bb-426a-f60c-cd0e011bc0b5"
      },
      "execution_count": 189,
      "outputs": [
        {
          "output_type": "stream",
          "name": "stdout",
          "text": [
            "H\n"
          ]
        }
      ]
    },
    {
      "cell_type": "code",
      "source": [
        "print(message[1])"
      ],
      "metadata": {
        "colab": {
          "base_uri": "https://localhost:8080/"
        },
        "id": "mie4hGrwVRd8",
        "outputId": "38bbf8e6-ea12-4257-9bf7-74d5d83eaa0c"
      },
      "execution_count": 190,
      "outputs": [
        {
          "output_type": "stream",
          "name": "stdout",
          "text": [
            "e\n"
          ]
        }
      ]
    },
    {
      "cell_type": "code",
      "source": [
        "print(message[2])"
      ],
      "metadata": {
        "colab": {
          "base_uri": "https://localhost:8080/"
        },
        "id": "EPb7t878VSgl",
        "outputId": "9679d411-63dd-4441-8125-cfad8d62cac1"
      },
      "execution_count": 191,
      "outputs": [
        {
          "output_type": "stream",
          "name": "stdout",
          "text": [
            "l\n"
          ]
        }
      ]
    },
    {
      "cell_type": "code",
      "source": [
        "print(message[3])"
      ],
      "metadata": {
        "colab": {
          "base_uri": "https://localhost:8080/"
        },
        "id": "jsqiEjCrVSj4",
        "outputId": "2f792a08-ac79-4d89-dc3a-aa2f5a0798e6"
      },
      "execution_count": 192,
      "outputs": [
        {
          "output_type": "stream",
          "name": "stdout",
          "text": [
            "l\n"
          ]
        }
      ]
    },
    {
      "cell_type": "code",
      "source": [
        "print(message[4])"
      ],
      "metadata": {
        "colab": {
          "base_uri": "https://localhost:8080/"
        },
        "id": "SNvwxHcNVSns",
        "outputId": "3973528d-6e64-41b9-f216-421959ab2b97"
      },
      "execution_count": 193,
      "outputs": [
        {
          "output_type": "stream",
          "name": "stdout",
          "text": [
            "o\n"
          ]
        }
      ]
    },
    {
      "cell_type": "code",
      "source": [
        "print(message[-1])"
      ],
      "metadata": {
        "colab": {
          "base_uri": "https://localhost:8080/"
        },
        "id": "YeE9uO2hVRlq",
        "outputId": "29f8e928-3b72-49cb-b1c3-648b2fc214c3"
      },
      "execution_count": 195,
      "outputs": [
        {
          "output_type": "stream",
          "name": "stdout",
          "text": [
            "o\n"
          ]
        }
      ]
    },
    {
      "cell_type": "code",
      "source": [
        "print(message[-2])"
      ],
      "metadata": {
        "colab": {
          "base_uri": "https://localhost:8080/"
        },
        "id": "KdazF-9zVRtU",
        "outputId": "f9c47739-0c08-4cfb-9f85-f27e9ebdee87"
      },
      "execution_count": 196,
      "outputs": [
        {
          "output_type": "stream",
          "name": "stdout",
          "text": [
            "l\n"
          ]
        }
      ]
    },
    {
      "cell_type": "code",
      "source": [
        "print(message[-3])"
      ],
      "metadata": {
        "colab": {
          "base_uri": "https://localhost:8080/"
        },
        "id": "3rAPvTTZVRzd",
        "outputId": "b2bb32de-e4e6-472f-c711-f006f8287bde"
      },
      "execution_count": 197,
      "outputs": [
        {
          "output_type": "stream",
          "name": "stdout",
          "text": [
            "l\n"
          ]
        }
      ]
    },
    {
      "cell_type": "code",
      "source": [
        "print(message[-4])"
      ],
      "metadata": {
        "colab": {
          "base_uri": "https://localhost:8080/"
        },
        "id": "6WUyGoJUVgUH",
        "outputId": "f0bd9533-f579-4433-d7c2-cf5625950a7b"
      },
      "execution_count": 198,
      "outputs": [
        {
          "output_type": "stream",
          "name": "stdout",
          "text": [
            "e\n"
          ]
        }
      ]
    },
    {
      "cell_type": "code",
      "source": [
        "print(message[-5])"
      ],
      "metadata": {
        "colab": {
          "base_uri": "https://localhost:8080/"
        },
        "id": "3kyBlV4hVgW8",
        "outputId": "598e1f15-b35f-47de-a3af-64291bf097a7"
      },
      "execution_count": 199,
      "outputs": [
        {
          "output_type": "stream",
          "name": "stdout",
          "text": [
            "H\n"
          ]
        }
      ]
    },
    {
      "cell_type": "code",
      "source": [
        "print(message[0] + message[4] + message[3] + message[9])"
      ],
      "metadata": {
        "colab": {
          "base_uri": "https://localhost:8080/",
          "height": 146
        },
        "id": "kYmj_W4pWXCE",
        "outputId": "b0d120dc-2e9b-4421-9cce-c4501c456722"
      },
      "execution_count": 208,
      "outputs": [
        {
          "output_type": "error",
          "ename": "IndexError",
          "evalue": "string index out of range",
          "traceback": [
            "\u001b[0;31m---------------------------------------------------------------------------\u001b[0m",
            "\u001b[0;31mIndexError\u001b[0m                                Traceback (most recent call last)",
            "\u001b[0;32m<ipython-input-208-456598acf790>\u001b[0m in \u001b[0;36m<cell line: 0>\u001b[0;34m()\u001b[0m\n\u001b[0;32m----> 1\u001b[0;31m \u001b[0mprint\u001b[0m\u001b[0;34m(\u001b[0m\u001b[0mmessage\u001b[0m\u001b[0;34m[\u001b[0m\u001b[0;36m0\u001b[0m\u001b[0;34m]\u001b[0m \u001b[0;34m+\u001b[0m \u001b[0mmessage\u001b[0m\u001b[0;34m[\u001b[0m\u001b[0;36m4\u001b[0m\u001b[0;34m]\u001b[0m \u001b[0;34m+\u001b[0m \u001b[0mmessage\u001b[0m\u001b[0;34m[\u001b[0m\u001b[0;36m3\u001b[0m\u001b[0;34m]\u001b[0m \u001b[0;34m+\u001b[0m \u001b[0mmessage\u001b[0m\u001b[0;34m[\u001b[0m\u001b[0;36m9\u001b[0m\u001b[0;34m]\u001b[0m\u001b[0;34m)\u001b[0m\u001b[0;34m\u001b[0m\u001b[0;34m\u001b[0m\u001b[0m\n\u001b[0m",
            "\u001b[0;31mIndexError\u001b[0m: string index out of range"
          ]
        }
      ]
    },
    {
      "cell_type": "code",
      "source": [
        "print(message[0:5])"
      ],
      "metadata": {
        "colab": {
          "base_uri": "https://localhost:8080/"
        },
        "id": "35dH54a_XZwj",
        "outputId": "9cd28288-26de-43ff-c8bd-edc26e5c4e1d"
      },
      "execution_count": 210,
      "outputs": [
        {
          "output_type": "stream",
          "name": "stdout",
          "text": [
            "Hello\n"
          ]
        }
      ]
    },
    {
      "cell_type": "code",
      "source": [
        "print(message[6:9])"
      ],
      "metadata": {
        "colab": {
          "base_uri": "https://localhost:8080/"
        },
        "id": "TSU9ibc1ZDSb",
        "outputId": "d6293776-bdf1-473c-e360-9a3839fef5d0"
      },
      "execution_count": 214,
      "outputs": [
        {
          "output_type": "stream",
          "name": "stdout",
          "text": [
            "\n"
          ]
        }
      ]
    },
    {
      "cell_type": "markdown",
      "source": [
        "String Methods"
      ],
      "metadata": {
        "id": "7lGJdqUGh9IW"
      }
    },
    {
      "cell_type": "code",
      "source": [],
      "metadata": {
        "id": "hzAzn2H8h7OW"
      },
      "execution_count": null,
      "outputs": []
    }
  ]
}