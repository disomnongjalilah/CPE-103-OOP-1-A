{
  "nbformat": 4,
  "nbformat_minor": 0,
  "metadata": {
    "colab": {
      "provenance": [],
      "authorship_tag": "ABX9TyMATjq+1oJf+ORfI+EX38tI",
      "include_colab_link": true
    },
    "kernelspec": {
      "name": "python3",
      "display_name": "Python 3"
    },
    "language_info": {
      "name": "python"
    }
  },
  "cells": [
    {
      "cell_type": "markdown",
      "metadata": {
        "id": "view-in-github",
        "colab_type": "text"
      },
      "source": [
        "<a href=\"https://colab.research.google.com/github/disomnongjalilah/CPE-103-OOP-1-A/blob/main/CPE_103_Laboratory_6_Inheritance_Encapsulation_and_Abstraction.ipynb\" target=\"_parent\"><img src=\"https://colab.research.google.com/assets/colab-badge.svg\" alt=\"Open In Colab\"/></a>"
      ]
    },
    {
      "source": [
        "class Character():\n",
        "    def __init__(self, username):\n",
        "        self.__username = username\n",
        "        self.__hp = 100\n",
        "        self.__mana = 100\n",
        "        self.__damage = 5\n",
        "        self.__srt = 0\n",
        "        self.__vit = 0\n",
        "        self.__int = 0\n",
        "        self.__agi = 0\n",
        "    def getUsername(self):\n",
        "        return self.__username\n",
        "    def setUsername(self, new_username):\n",
        "        self.__username = new_username\n",
        "    def getHp(self):\n",
        "        return self.__hp\n",
        "    def setHp(self, new_hp):\n",
        "        self.__hp = new_hp\n",
        "    def getMana(self):\n",
        "        return self.__mana\n",
        "    def setMana(self, new_mana):\n",
        "        self.__mana = new_mana\n",
        "    def getDamage(self):\n",
        "        return self.__damage\n",
        "    def setDamage(self, new_damage):\n",
        "        self.__damage = new_damage\n",
        "    def getStr(self):\n",
        "        return self.__srt\n",
        "    def setStr(self, new_str):\n",
        "        self.__srt = new_str\n",
        "    def getVit(self):\n",
        "        return self.__vit\n",
        "    def setVit(self, new_vit):\n",
        "        self.__vit = new_vit\n",
        "    def getInt(self):\n",
        "        return self.__int\n",
        "    def setInt(self, new_int):\n",
        "        self.__int = new_int\n",
        "    def getAgi(self):\n",
        "        return self.__agi\n",
        "    def setAgi(self, new_agi):\n",
        "        self.__agi = new_agi\n",
        "    def reduceHp(self, damage_amount):\n",
        "        self.__hp = self.__hp - damage_amount\n",
        "    def addHp(self, heal_amount):\n",
        "        self.__hp = self.__hp + heal_amount\n",
        "\n",
        "character1 = Character(\"jaly__\")\n",
        "print(character1.getUsername())"
      ],
      "cell_type": "code",
      "metadata": {
        "colab": {
          "base_uri": "https://localhost:8080/"
        },
        "id": "rZ5wotltPz3g",
        "outputId": "1547919d-e4c6-4f7b-dde5-09dabdfa895e"
      },
      "execution_count": 4,
      "outputs": [
        {
          "output_type": "stream",
          "name": "stdout",
          "text": [
            "jaly__\n"
          ]
        }
      ]
    },
    {
      "cell_type": "code",
      "source": [
        "class Novice(Character):\n",
        "    def basicAttack(self, character):\n",
        "        character.reduceHp(self.getDamage())\n",
        "        print(f\"{self.getUsername()} performed Basic Attack! -{self.getDamage()}\")\n",
        "\n",
        "character1 = Novice(\"jaly__\")\n",
        "print(character1.getUsername())\n",
        "print(character1.getHp())"
      ],
      "metadata": {
        "colab": {
          "base_uri": "https://localhost:8080/"
        },
        "id": "kKpAoGJBSB7B",
        "outputId": "335d357c-49eb-47c5-c3fa-9dc181049eff"
      },
      "execution_count": 5,
      "outputs": [
        {
          "output_type": "stream",
          "name": "stdout",
          "text": [
            "jaly__\n",
            "100\n"
          ]
        }
      ]
    },
    {
      "cell_type": "code",
      "source": [
        "class Swordman(Novice):\n",
        "   def __int__(self, username):\n",
        "       super().__init__(username)\n",
        "       self.setStr(5)\n",
        "       self.setVit(10)\n",
        "       self.Hp(self.getHp()+self.getVit())\n",
        "\n",
        "   def slashAttack(self, character):\n",
        "       self.new_damage = self.getDamage() + self.getStr()\n",
        "       character.reduceHp(self.new_damage)\n",
        "       print(f\"{self.getUsername()} performed Slash Attack! -{self.new_damage}\")"
      ],
      "metadata": {
        "id": "3G2s7Fg4TFgq"
      },
      "execution_count": 6,
      "outputs": []
    },
    {
      "cell_type": "code",
      "source": [
        "class Archer(Novice):\n",
        "   def __int__(self, username):\n",
        "       super().__init__(username)\n",
        "       self.setAgi(5)\n",
        "       self.setInt(5)\n",
        "       self.setVit(5)\n",
        "       self.Hp(self.getHp()+self.getVit())\n",
        "\n",
        "   def rangedAttack(self, character):\n",
        "       self.new_damage = self.getDamage() + self.getStr()\n",
        "       character.reduceHp(self.new_damage)\n",
        "       print(f\"{self.getUsername()} performed Slash Attack! -{self.new_damage}\")"
      ],
      "metadata": {
        "id": "AfmfEpFFT-HV"
      },
      "execution_count": 7,
      "outputs": []
    },
    {
      "cell_type": "code",
      "source": [
        "class Magician(Novice):\n",
        "   def __int__(self, username):\n",
        "       super().__init__(username)\n",
        "       self.setInt(10)\n",
        "       self.setVit(5)\n",
        "       self.Hp(self.getHp()+self.getVit())\n",
        "\n",
        "   def heal(self):\n",
        "       self.addHp(self.getInt())\n",
        "       print(f\"{self.getUsername()} performed Heal! +{self.getInt()}\")\n",
        "\n",
        "   def magicAttack(self, character):\n",
        "       self.new_damage = self.getDamage() + self.getInt()\n",
        "       character.reduceHp(self.new_damage)\n",
        "       print(f\"{self.getUsername()} performed Slash Attack! -{self.new_damage}\")"
      ],
      "metadata": {
        "id": "uV7wudN9Ud0F"
      },
      "execution_count": 8,
      "outputs": []
    },
    {
      "cell_type": "code",
      "source": [
        "Character1 = Swordman(\"Royce\")\n",
        "Character2 = Magician(\"Archie\")\n",
        "print(f\"{Character1.getUsername()} HP: {Character1.getHp()}\")\n",
        "print(f\"{Character2.getUsername()} HP: {Character2.getHp()}\")\n",
        "Character1.slashAttack(Character2)\n",
        "Character1.basicAttack(Character2)\n",
        "print(f\"{Character1.getUsername()} HP: {Character1.getHp()}\")\n",
        "print(f\"{Character2.getUsername()} HP: {Character2.getHp()}\")\n",
        "Character2.heal()\n",
        "Character2.magicAttack(Character1)\n",
        "print(f\"{Character1.getUsername()} HP: {Character1.getHp()}\")\n",
        "print(f\"{Character2.getUsername()} HP: {Character2.getHp()}\")"
      ],
      "metadata": {
        "colab": {
          "base_uri": "https://localhost:8080/"
        },
        "id": "lz5SsVd1UzUt",
        "outputId": "72d6eae4-ef53-4a19-eda3-be3b10e504c6"
      },
      "execution_count": 9,
      "outputs": [
        {
          "output_type": "stream",
          "name": "stdout",
          "text": [
            "Royce HP: 100\n",
            "Archie HP: 100\n",
            "Royce performed Slash Attack! -5\n",
            "Royce performed Basic Attack! -5\n",
            "Royce HP: 100\n",
            "Archie HP: 90\n",
            "Archie performed Heal! +0\n",
            "Archie performed Slash Attack! -5\n",
            "Royce HP: 95\n",
            "Archie HP: 90\n"
          ]
        }
      ]
    },
    {
      "cell_type": "code",
      "source": [
        "class Boss(Swordman, Archer, Magician):\n",
        "    def __int__(self, username):\n",
        "        super().__init__(username)\n",
        "        self.setStr(10)\n",
        "        self.setVit(25)\n",
        "        self.setInt(5)\n",
        "        self.setHp(self.getHp()+self.getVit())"
      ],
      "metadata": {
        "id": "WCU-WFy6Wcgm"
      },
      "execution_count": 10,
      "outputs": []
    },
    {
      "cell_type": "code",
      "source": [
        "Character1 = Swordman(\"Royce\")\n",
        "Character2 = Boss(\"Archie\")\n",
        "print(f\"{Character1.getUsername()} HP: {Character1.getHp()}\")\n",
        "print(f\"{Character2.getUsername()} HP: {Character2.getHp()}\")\n",
        "Character1.slashAttack(Character2)\n",
        "Character1.basicAttack(Character2)\n",
        "print(f\"{Character1.getUsername()} HP: {Character1.getHp()}\")\n",
        "print(f\"{Character2.getUsername()} HP: {Character2.getHp()}\")\n",
        "Character2.heal()\n",
        "Character2.magicAttack(Character1)\n",
        "print(f\"{Character1.getUsername()} HP: {Character1.getHp()}\")\n",
        "print(f\"{Character2.getUsername()} HP: {Character2.getHp()}\")"
      ],
      "metadata": {
        "colab": {
          "base_uri": "https://localhost:8080/"
        },
        "id": "PlwM4vorj_eV",
        "outputId": "f8292391-5574-439b-b694-2bedf72aaa77"
      },
      "execution_count": 11,
      "outputs": [
        {
          "output_type": "stream",
          "name": "stdout",
          "text": [
            "Royce HP: 100\n",
            "Archie HP: 100\n",
            "Royce performed Slash Attack! -5\n",
            "Royce performed Basic Attack! -5\n",
            "Royce HP: 100\n",
            "Archie HP: 90\n",
            "Archie performed Heal! +0\n",
            "Archie performed Slash Attack! -5\n",
            "Royce HP: 95\n",
            "Archie HP: 90\n"
          ]
        }
      ]
    },
    {
      "cell_type": "markdown",
      "source": [
        "# Supplementary Activity"
      ],
      "metadata": {
        "id": "c6CDPK6gkgJo"
      }
    },
    {
      "cell_type": "code",
      "source": [
        "import random\n",
        "\n",
        "class Game:\n",
        "    def __init__(self):\n",
        "        self.player1_wins = 0\n",
        "        self.player2_wins = 0\n",
        "        self.boss = 0\n",
        "\n",
        "    def start_game(self):\n",
        "        mode = input(\"Select game mode (single player or player vs player): \").lower()\n",
        "        if mode == \"single player\":\n",
        "            self.single_player_game()\n",
        "        elif mode == \"player vs player\":\n",
        "            self.player_vs_player_game()\n",
        "        else:\n",
        "            print(\"Invalid mode.\")\n",
        "\n",
        "    def single_player_game(self):\n",
        "        player_name = input(\"Enter your name: \")\n",
        "        player = Novice(player_name)\n",
        "        monster = Boss(\"Monster\")\n",
        "\n",
        "        while player.getHp() > 0 and monster.getHp() > 0:\n",
        "            print(f\"\\n{player.getUsername()} HP: {player.getHp()}\")\n",
        "            print(f\"{monster.getUsername()} HP: {monster.getHp()}\")\n",
        "\n",
        "            player.basicAttack(monster)\n",
        "\n",
        "            if monster.getHp() > 0:\n",
        "\n",
        "                monster.basicAttack(player)\n",
        "\n",
        "    def player_vs_player_game(self):\n",
        "        player1_name = input(\"Enter Player 1's name: \")\n",
        "        player2_name = input(\"Enter Player 2's name: \")\n",
        "        player1 = self.role_selection(player1_name)\n",
        "        player2 = self.role_selection(player2_name)\n",
        "\n",
        "\n",
        "        while player1.getHp() > 0 and player2.getHp() > 0:\n",
        "            print(f\"\\n{player1.getUsername()} HP: {player1.getHp()}\")\n",
        "            print(f\"{player2.getUsername()} HP: {player2.getHp()}\")\n",
        "\n",
        "            player1.basicAttack(player2)\n",
        "            if player2.getHp() > 0:\n",
        "                player2.basicAttack(player1)\n",
        "\n",
        "            if player1.getHp() <= 0:\n",
        "                print(f\"{player1.getUsername()} has been defeated!\")\n",
        "            else:\n",
        "                print(f\"{player2.getUsername()} has been defeated!\")\n",
        "\n",
        "\n",
        "\n",
        "\n",
        "\n",
        "    def role_selection(self, player_name):\n",
        "        role = input(\"Choose your role (Swordsman, Archer, Magician): \").lower()\n",
        "        if role == 'swordsman':\n",
        "            return Swordman(player_name)\n",
        "        elif role == 'archer':\n",
        "            return Archer(player_name)\n",
        "        elif role == 'magician':\n",
        "            return Magician(player_name)\n",
        "        else:\n",
        "            print(\"Invalid role.\")\n",
        "\n",
        "\n",
        "\n",
        "\n",
        "game = Game()\n",
        "game.start_game()\n"
      ],
      "metadata": {
        "colab": {
          "base_uri": "https://localhost:8080/"
        },
        "id": "Uu4-X665klb1",
        "outputId": "f9c57235-2030-46ff-caee-c308089ff350"
      },
      "execution_count": 35,
      "outputs": [
        {
          "output_type": "stream",
          "name": "stdout",
          "text": [
            "Select game mode (single player or player vs player): player vs player\n",
            "Enter Player 1's name: lisa\n",
            "Enter Player 2's name: rose\n",
            "Choose your role (Swordsman, Archer, Magician): magician\n",
            "Choose your role (Swordsman, Archer, Magician): archer\n",
            "\n",
            "lisa HP: 100\n",
            "rose HP: 100\n",
            "lisa performed Basic Attack! -5\n",
            "rose performed Basic Attack! -5\n",
            "rose has been defeated!\n",
            "\n",
            "lisa HP: 95\n",
            "rose HP: 95\n",
            "lisa performed Basic Attack! -5\n",
            "rose performed Basic Attack! -5\n",
            "rose has been defeated!\n",
            "\n",
            "lisa HP: 90\n",
            "rose HP: 90\n",
            "lisa performed Basic Attack! -5\n",
            "rose performed Basic Attack! -5\n",
            "rose has been defeated!\n",
            "\n",
            "lisa HP: 85\n",
            "rose HP: 85\n",
            "lisa performed Basic Attack! -5\n",
            "rose performed Basic Attack! -5\n",
            "rose has been defeated!\n",
            "\n",
            "lisa HP: 80\n",
            "rose HP: 80\n",
            "lisa performed Basic Attack! -5\n",
            "rose performed Basic Attack! -5\n",
            "rose has been defeated!\n",
            "\n",
            "lisa HP: 75\n",
            "rose HP: 75\n",
            "lisa performed Basic Attack! -5\n",
            "rose performed Basic Attack! -5\n",
            "rose has been defeated!\n",
            "\n",
            "lisa HP: 70\n",
            "rose HP: 70\n",
            "lisa performed Basic Attack! -5\n",
            "rose performed Basic Attack! -5\n",
            "rose has been defeated!\n",
            "\n",
            "lisa HP: 65\n",
            "rose HP: 65\n",
            "lisa performed Basic Attack! -5\n",
            "rose performed Basic Attack! -5\n",
            "rose has been defeated!\n",
            "\n",
            "lisa HP: 60\n",
            "rose HP: 60\n",
            "lisa performed Basic Attack! -5\n",
            "rose performed Basic Attack! -5\n",
            "rose has been defeated!\n",
            "\n",
            "lisa HP: 55\n",
            "rose HP: 55\n",
            "lisa performed Basic Attack! -5\n",
            "rose performed Basic Attack! -5\n",
            "rose has been defeated!\n",
            "\n",
            "lisa HP: 50\n",
            "rose HP: 50\n",
            "lisa performed Basic Attack! -5\n",
            "rose performed Basic Attack! -5\n",
            "rose has been defeated!\n",
            "\n",
            "lisa HP: 45\n",
            "rose HP: 45\n",
            "lisa performed Basic Attack! -5\n",
            "rose performed Basic Attack! -5\n",
            "rose has been defeated!\n",
            "\n",
            "lisa HP: 40\n",
            "rose HP: 40\n",
            "lisa performed Basic Attack! -5\n",
            "rose performed Basic Attack! -5\n",
            "rose has been defeated!\n",
            "\n",
            "lisa HP: 35\n",
            "rose HP: 35\n",
            "lisa performed Basic Attack! -5\n",
            "rose performed Basic Attack! -5\n",
            "rose has been defeated!\n",
            "\n",
            "lisa HP: 30\n",
            "rose HP: 30\n",
            "lisa performed Basic Attack! -5\n",
            "rose performed Basic Attack! -5\n",
            "rose has been defeated!\n",
            "\n",
            "lisa HP: 25\n",
            "rose HP: 25\n",
            "lisa performed Basic Attack! -5\n",
            "rose performed Basic Attack! -5\n",
            "rose has been defeated!\n",
            "\n",
            "lisa HP: 20\n",
            "rose HP: 20\n",
            "lisa performed Basic Attack! -5\n",
            "rose performed Basic Attack! -5\n",
            "rose has been defeated!\n",
            "\n",
            "lisa HP: 15\n",
            "rose HP: 15\n",
            "lisa performed Basic Attack! -5\n",
            "rose performed Basic Attack! -5\n",
            "rose has been defeated!\n",
            "\n",
            "lisa HP: 10\n",
            "rose HP: 10\n",
            "lisa performed Basic Attack! -5\n",
            "rose performed Basic Attack! -5\n",
            "rose has been defeated!\n",
            "\n",
            "lisa HP: 5\n",
            "rose HP: 5\n",
            "lisa performed Basic Attack! -5\n",
            "rose has been defeated!\n"
          ]
        }
      ]
    }
  ]
}